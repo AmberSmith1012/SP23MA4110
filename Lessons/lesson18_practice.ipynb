{
 "cells": [
  {
   "cell_type": "code",
   "execution_count": null,
   "metadata": {},
   "outputs": [],
   "source": [
    "from datascience import *\n",
    "import numpy as np\n",
    "\n",
    "%matplotlib inline\n",
    "import matplotlib.pyplot as plots\n",
    "plots.style.use('fivethirtyeight')"
   ]
  },
  {
   "cell_type": "markdown",
   "metadata": {},
   "source": [
    "## The Teacher's Defense ##"
   ]
  },
  {
   "cell_type": "code",
   "execution_count": null,
   "metadata": {},
   "outputs": [],
   "source": [
    "# Run this cell\n",
    "scores = Table.read_table('data/scores_by_section.csv')\n",
    "scores"
   ]
  },
  {
   "cell_type": "code",
   "execution_count": null,
   "metadata": {},
   "outputs": [],
   "source": [
    "# Determine the number of students in each section by using\n",
    "# .group\n",
    "..."
   ]
  },
  {
   "cell_type": "code",
   "execution_count": null,
   "metadata": {},
   "outputs": [],
   "source": [
    "# Find the average score for each section\n",
    ".."
   ]
  },
  {
   "cell_type": "code",
   "execution_count": null,
   "metadata": {},
   "outputs": [],
   "source": [
    "# The observed/actual average for the section we are \n",
    "# interested in is 13.667.  Assign this to an assignment\n",
    "# statement `observed_average`\n",
    "..."
   ]
  },
  {
   "cell_type": "code",
   "execution_count": null,
   "metadata": {},
   "outputs": [],
   "source": [
    "# Assign to `random_sample` a sample of size 27 from the \n",
    "# table `scores`.  This sample should be without replacement\n",
    "random_sample = ...\n",
    "random_sample"
   ]
  },
  {
   "cell_type": "code",
   "execution_count": null,
   "metadata": {},
   "outputs": [],
   "source": [
    "# Find the average of midterm grades generate and assigned to\n",
    "# `random_sample`\n",
    "..."
   ]
  },
  {
   "cell_type": "code",
   "execution_count": null,
   "metadata": {},
   "outputs": [],
   "source": [
    "# Write a function  under the hypothesis called `random_sample_midterm_avg` to\n",
    "# simulates one value of the test statistic that\n",
    "# the section is like a random sample from the class\n",
    "# The function does not take a value (ie. use ())\n",
    "# You want to sample the table scores, with a sample size of 27, and without replacement\n",
    "# assign this to `random_sample`\n",
    "# Return the average of the midterm grades of simulated sample\n",
    "# Hint:  You will use code that you have already created in this notebook\n",
    "\n",
    "\n",
    "... :\n",
    "    random_sample = ...\n",
    "    return ..."
   ]
  },
  {
   "cell_type": "code",
   "execution_count": null,
   "metadata": {},
   "outputs": [],
   "source": [
    "# Use a for loop to simulate 50,000 copies of the test statistic\n",
    "\n",
    "# Create an assignment statement called `sample_averages` that\n",
    "# is an \"empty\" array\n",
    "# Create a for loop that runs up to 50,000 times\n",
    "# Within the for loop, there is an assignment statement called\n",
    "# `sample_averages` that is assigned the result of \n",
    "# appending to `sample_averages the results from \n",
    "# using the function `random_sample_midterm_avg()`\n",
    "\n",
    "...\n",
    "\n",
    "... :\n",
    "    sample_averages = ...    "
   ]
  },
  {
   "cell_type": "code",
   "execution_count": null,
   "metadata": {},
   "outputs": [],
   "source": [
    "# Run this cell\n",
    "# This code compares the simulated distribution of the statistic\n",
    "# and the actual observed statistic\n",
    "\n",
    "averages_tbl = Table().with_column('Random Sample Average', sample_averages)\n",
    "averages_tbl.hist(bins = 20)\n",
    "plots.scatter(observed_average, 0, color = 'red', s=40);"
   ]
  },
  {
   "cell_type": "code",
   "execution_count": null,
   "metadata": {
    "tags": []
   },
   "outputs": [],
   "source": [
    "# Calculate how many simulated statistics were more extreme\n",
    "# than the observed statistic, as a percentage of the total\n",
    "# We call this the p-value\n",
    "# If the p-value is greater than the significance level of 5%\n",
    "# we would fail to reject the null hypothesis\n",
    "\n",
    "# Hint: compare the values of `sample_averages` to the values of `observed_average`\n",
    "# one should be less than or equal to the other\n",
    "# add up all of the times the above statement is true and divide by the total nummber of trials\n",
    "\n",
    "..."
   ]
  },
  {
   "cell_type": "code",
   "execution_count": null,
   "metadata": {},
   "outputs": [],
   "source": [
    "# How low did the average score need to be to reject the null?\n",
    "# Well, 5% of 50,000 = 2500. Let's sort the simulated averages\n",
    "# and look at the 2500th item in the array. That's the score \n",
    "# right at the decision point\n",
    "\n",
    "# Run this cell\n",
    "\n",
    "five_percent_point = averages_tbl.sort(0).column(0).item(2500)\n",
    "five_percent_point\n",
    "\n",
    "# This is using the Critical value approach to make a decision \n",
    "# 13.59 is our critical value.  Test score averages below this value are in the rejection region and are \n",
    "# not likely to occur\n",
    "# our observed value is 13.6667 which is slightly above this critical value\n",
    "# we would fail to reject the null because our observed value is not in the rejection region"
   ]
  },
  {
   "cell_type": "code",
   "execution_count": null,
   "metadata": {
    "tags": []
   },
   "outputs": [],
   "source": [
    "# Run this cell\n",
    "# This code will visualize the 5% mark on the distribution\n",
    "averages_tbl.hist(bins = 20)\n",
    "plots.plot([five_percent_point, five_percent_point], [0, 0.35], color='gold', lw=2)\n",
    "plots.title('Area to the left of the gold line: 5%');"
   ]
  },
  {
   "cell_type": "code",
   "execution_count": null,
   "metadata": {},
   "outputs": [],
   "source": []
  }
 ],
 "metadata": {
  "anaconda-cloud": {},
  "kernelspec": {
   "display_name": "Python 3 (ipykernel)",
   "language": "python",
   "name": "python3"
  },
  "language_info": {
   "codemirror_mode": {
    "name": "ipython",
    "version": 3
   },
   "file_extension": ".py",
   "mimetype": "text/x-python",
   "name": "python",
   "nbconvert_exporter": "python",
   "pygments_lexer": "ipython3",
   "version": "3.10.5"
  }
 },
 "nbformat": 4,
 "nbformat_minor": 4
}
