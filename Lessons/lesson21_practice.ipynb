{
 "cells": [
  {
   "cell_type": "code",
   "execution_count": null,
   "metadata": {},
   "outputs": [],
   "source": [
    "from datascience import *\n",
    "import numpy as np\n",
    "\n",
    "%matplotlib inline\n",
    "import matplotlib.pyplot as plots\n",
    "plots.style.use('fivethirtyeight')"
   ]
  },
  {
   "cell_type": "markdown",
   "metadata": {},
   "source": [
    "## Review: Comparing Two Samples"
   ]
  },
  {
   "cell_type": "code",
   "execution_count": null,
   "metadata": {},
   "outputs": [],
   "source": [
    "# Create a function called \"difference_of_means\" that takes the following\n",
    "# name of a table\n",
    "# column label of numerical variable\n",
    "# column label of group-label variable\n",
    "# The function returns the difference of means of the two groups\n",
    "\n",
    "def difference_of_means(...):\n",
    "    \"\"\"\n",
    "    Takes: name of table, column label of numerical variable,\n",
    "    column label of group-label variable\n",
    "    \n",
    "    Returns: Difference of means of the two groups\n",
    "    \"\"\"\n",
    "    \n",
    "    # Assign a new table with the two relevant columns selected, based on\n",
    "    # the table used for the function\n",
    "    reduced = ... \n",
    "    \n",
    "    # Group the table `reduced` by the group label \n",
    "    # and find the average of the group\n",
    "    means_table = ...\n",
    "    \n",
    "    # Create an array of the group means based on `means_table`\n",
    "    means = ...\n",
    "    \n",
    "    # Return the diffence between the 2 values\n",
    "    # of interest based on `means`\n",
    "    return ..."
   ]
  },
  {
   "cell_type": "code",
   "execution_count": null,
   "metadata": {},
   "outputs": [],
   "source": [
    "# Create a function called \"one_simulated_difference\"\n",
    "# that takes the following\n",
    "# name of a table\n",
    "# column label of numerical variable\n",
    "# column label of group-label variable\n",
    "# The function returns the difference of means of the two groups\n",
    "# after shuffling labels\n",
    "\n",
    "def one_simulated_difference(...):\n",
    "    \"\"\"\n",
    "    Takes: name of table, column label of numerical variable,\n",
    "    column label of group-label variable\n",
    "    \n",
    "    Returns: Difference of means of the two groups after shuffling labels\n",
    "    \"\"\"\n",
    "    \n",
    "    # Create an array containing the group variable info based \n",
    "    # on the table used for the function. We do NOT want replacement\n",
    "    shuffled_labels = ...\n",
    "    \n",
    "    # Create a table of numerical variable and shuffled labels by\n",
    "    # selecting the numerical varariable column and adding\n",
    "    # a new column called `Shuffled Label` that uses the information\n",
    "    # from the array `shuffled_labels`\n",
    "    shuffled_table = ...\n",
    "    \n",
    "    # Use the function `difference_of_means` to find the \n",
    "    # differece of means of the two groups after shuffling labels\n",
    "    return ...  "
   ]
  },
  {
   "cell_type": "markdown",
   "metadata": {},
   "source": [
    "# Randomized Control Experiment"
   ]
  },
  {
   "cell_type": "code",
   "execution_count": null,
   "metadata": {},
   "outputs": [],
   "source": [
    "# Run this cell\n",
    "botox = Table.read_table('data/bta.csv')\n",
    "botox.show()"
   ]
  },
  {
   "cell_type": "code",
   "execution_count": null,
   "metadata": {},
   "outputs": [],
   "source": [
    "# Create a table that shows the results (0.0 or 1.0) printed in columns \n",
    "# and the group names (Control or Treatment) printed in rows\n",
    "..."
   ]
  },
  {
   "cell_type": "code",
   "execution_count": null,
   "metadata": {},
   "outputs": [],
   "source": [
    "# Create a table that shows the average of each group\n",
    "..."
   ]
  },
  {
   "cell_type": "markdown",
   "metadata": {},
   "source": [
    "# Testing the Hypothesis"
   ]
  },
  {
   "cell_type": "code",
   "execution_count": null,
   "metadata": {},
   "outputs": [],
   "source": [
    "# Use the difference_of_means function to find the \n",
    "# observed difference of each group and its results\n",
    "observed_diff = ...\n",
    "observed_diff"
   ]
  },
  {
   "cell_type": "code",
   "execution_count": null,
   "metadata": {},
   "outputs": [],
   "source": [
    "# Use the one_simulated_difference function for the\n",
    "# results and group\n",
    "one_simulated_difference(...)"
   ]
  },
  {
   "cell_type": "code",
   "execution_count": null,
   "metadata": {},
   "outputs": [],
   "source": [
    "# Simulate the results of running the experiment 10000 times\n",
    "# using a for loop, where `simulated_diffs` is initially an\n",
    "# empty array.  `sim_diff` is assigned the result of using\n",
    "# the function `one_simulated_difference` for the table\n",
    "# `botox`, the numerical variable `Result`, and the\n",
    "# group-label variable `Group`\n",
    "# `simulated_diffs` is assigned the result of appending to\n",
    "# `simulated_diffs' the results from `sim_diff`\n",
    "\n",
    "simulated_diffs = ... \n",
    "\n",
    "for ... :\n",
    "    sim_diff = ...\n",
    "    simulated_diffs = ..."
   ]
  },
  {
   "cell_type": "code",
   "execution_count": null,
   "metadata": {},
   "outputs": [],
   "source": [
    "# Run this cell\n",
    "col_name = 'Distances between groups'\n",
    "Table().with_column(col_name, simulated_diffs).hist(col_name)\n",
    "plots.scatter(observed_diff,-.05, marker=\"^\", c=\"green\", s=100)"
   ]
  },
  {
   "cell_type": "code",
   "execution_count": null,
   "metadata": {},
   "outputs": [],
   "source": [
    "# Here, we are calculating the p-value\n",
    "sum(simulated_diffs >= observed_diff)/len(simulated_diffs)"
   ]
  },
  {
   "cell_type": "code",
   "execution_count": null,
   "metadata": {},
   "outputs": [],
   "source": []
  }
 ],
 "metadata": {
  "kernelspec": {
   "display_name": "Python 3 (ipykernel)",
   "language": "python",
   "name": "python3"
  },
  "language_info": {
   "codemirror_mode": {
    "name": "ipython",
    "version": 3
   },
   "file_extension": ".py",
   "mimetype": "text/x-python",
   "name": "python",
   "nbconvert_exporter": "python",
   "pygments_lexer": "ipython3",
   "version": "3.10.5"
  }
 },
 "nbformat": 4,
 "nbformat_minor": 4
}
