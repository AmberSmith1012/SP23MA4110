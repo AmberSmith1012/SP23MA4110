{
 "cells": [
  {
   "cell_type": "code",
   "execution_count": 1,
   "metadata": {},
   "outputs": [],
   "source": [
    "from datascience import *\n",
    "import numpy as np\n",
    "\n",
    "%matplotlib inline\n",
    "import matplotlib.pyplot as plots\n",
    "plots.style.use('fivethirtyeight')"
   ]
  },
  {
   "cell_type": "markdown",
   "metadata": {},
   "source": [
    "# A/B Testing: Comparing Two Samples"
   ]
  },
  {
   "cell_type": "code",
   "execution_count": 2,
   "metadata": {},
   "outputs": [
    {
     "data": {
      "text/html": [
       "<table border=\"1\" class=\"dataframe\">\n",
       "    <thead>\n",
       "        <tr>\n",
       "            <th>Birth Weight</th> <th>Gestational Days</th> <th>Maternal Age</th> <th>Maternal Height</th> <th>Maternal Pregnancy Weight</th> <th>Maternal Smoker</th>\n",
       "        </tr>\n",
       "    </thead>\n",
       "    <tbody>\n",
       "        <tr>\n",
       "            <td>120         </td> <td>284             </td> <td>27          </td> <td>62             </td> <td>100                      </td> <td>False          </td>\n",
       "        </tr>\n",
       "        <tr>\n",
       "            <td>113         </td> <td>282             </td> <td>33          </td> <td>64             </td> <td>135                      </td> <td>False          </td>\n",
       "        </tr>\n",
       "        <tr>\n",
       "            <td>128         </td> <td>279             </td> <td>28          </td> <td>64             </td> <td>115                      </td> <td>True           </td>\n",
       "        </tr>\n",
       "        <tr>\n",
       "            <td>108         </td> <td>282             </td> <td>23          </td> <td>67             </td> <td>125                      </td> <td>True           </td>\n",
       "        </tr>\n",
       "        <tr>\n",
       "            <td>136         </td> <td>286             </td> <td>25          </td> <td>62             </td> <td>93                       </td> <td>False          </td>\n",
       "        </tr>\n",
       "        <tr>\n",
       "            <td>138         </td> <td>244             </td> <td>33          </td> <td>62             </td> <td>178                      </td> <td>False          </td>\n",
       "        </tr>\n",
       "        <tr>\n",
       "            <td>132         </td> <td>245             </td> <td>23          </td> <td>65             </td> <td>140                      </td> <td>False          </td>\n",
       "        </tr>\n",
       "        <tr>\n",
       "            <td>120         </td> <td>289             </td> <td>25          </td> <td>62             </td> <td>125                      </td> <td>False          </td>\n",
       "        </tr>\n",
       "        <tr>\n",
       "            <td>143         </td> <td>299             </td> <td>30          </td> <td>66             </td> <td>136                      </td> <td>True           </td>\n",
       "        </tr>\n",
       "        <tr>\n",
       "            <td>140         </td> <td>351             </td> <td>27          </td> <td>68             </td> <td>120                      </td> <td>False          </td>\n",
       "        </tr>\n",
       "    </tbody>\n",
       "</table>\n",
       "<p>... (1164 rows omitted)</p>"
      ],
      "text/plain": [
       "Birth Weight | Gestational Days | Maternal Age | Maternal Height | Maternal Pregnancy Weight | Maternal Smoker\n",
       "120          | 284              | 27           | 62              | 100                       | False\n",
       "113          | 282              | 33           | 64              | 135                       | False\n",
       "128          | 279              | 28           | 64              | 115                       | True\n",
       "108          | 282              | 23           | 67              | 125                       | True\n",
       "136          | 286              | 25           | 62              | 93                        | False\n",
       "138          | 244              | 33           | 62              | 178                       | False\n",
       "132          | 245              | 23           | 65              | 140                       | False\n",
       "120          | 289              | 25           | 62              | 125                       | False\n",
       "143          | 299              | 30           | 66              | 136                       | True\n",
       "140          | 351              | 27           | 68              | 120                       | False\n",
       "... (1164 rows omitted)"
      ]
     },
     "execution_count": 2,
     "metadata": {},
     "output_type": "execute_result"
    }
   ],
   "source": [
    "# Run this cell\n",
    "births = Table.read_table('data/baby.csv')\n",
    "births"
   ]
  },
  {
   "cell_type": "code",
   "execution_count": 3,
   "metadata": {},
   "outputs": [
    {
     "data": {
      "text/html": [
       "<table border=\"1\" class=\"dataframe\">\n",
       "    <thead>\n",
       "        <tr>\n",
       "            <th>Maternal Smoker</th> <th>Birth Weight</th>\n",
       "        </tr>\n",
       "    </thead>\n",
       "    <tbody>\n",
       "        <tr>\n",
       "            <td>False          </td> <td>120         </td>\n",
       "        </tr>\n",
       "        <tr>\n",
       "            <td>False          </td> <td>113         </td>\n",
       "        </tr>\n",
       "        <tr>\n",
       "            <td>True           </td> <td>128         </td>\n",
       "        </tr>\n",
       "        <tr>\n",
       "            <td>True           </td> <td>108         </td>\n",
       "        </tr>\n",
       "        <tr>\n",
       "            <td>False          </td> <td>136         </td>\n",
       "        </tr>\n",
       "        <tr>\n",
       "            <td>False          </td> <td>138         </td>\n",
       "        </tr>\n",
       "        <tr>\n",
       "            <td>False          </td> <td>132         </td>\n",
       "        </tr>\n",
       "        <tr>\n",
       "            <td>False          </td> <td>120         </td>\n",
       "        </tr>\n",
       "        <tr>\n",
       "            <td>True           </td> <td>143         </td>\n",
       "        </tr>\n",
       "        <tr>\n",
       "            <td>False          </td> <td>140         </td>\n",
       "        </tr>\n",
       "    </tbody>\n",
       "</table>\n",
       "<p>... (1164 rows omitted)</p>"
      ],
      "text/plain": [
       "Maternal Smoker | Birth Weight\n",
       "False           | 120\n",
       "False           | 113\n",
       "True            | 128\n",
       "True            | 108\n",
       "False           | 136\n",
       "False           | 138\n",
       "False           | 132\n",
       "False           | 120\n",
       "True            | 143\n",
       "False           | 140\n",
       "... (1164 rows omitted)"
      ]
     },
     "execution_count": 3,
     "metadata": {},
     "output_type": "execute_result"
    }
   ],
   "source": [
    "# Assign to `smoking_and_birthweight` only the columns `Maternal Smoker` and `Birth Weight`\n",
    "smoking_and_birthweight = ...\n",
    "smoking_and_birthweight"
   ]
  },
  {
   "cell_type": "code",
   "execution_count": 4,
   "metadata": {},
   "outputs": [
    {
     "data": {
      "text/html": [
       "<table border=\"1\" class=\"dataframe\">\n",
       "    <thead>\n",
       "        <tr>\n",
       "            <th>Maternal Smoker</th> <th>count</th>\n",
       "        </tr>\n",
       "    </thead>\n",
       "    <tbody>\n",
       "        <tr>\n",
       "            <td>False          </td> <td>715  </td>\n",
       "        </tr>\n",
       "        <tr>\n",
       "            <td>True           </td> <td>459  </td>\n",
       "        </tr>\n",
       "    </tbody>\n",
       "</table>"
      ],
      "text/plain": [
       "Maternal Smoker | count\n",
       "False           | 715\n",
       "True            | 459"
      ]
     },
     "execution_count": 4,
     "metadata": {},
     "output_type": "execute_result"
    }
   ],
   "source": [
    "# Using the table `smoking_and_birthweight`, determine the number of mothers that smoked (True)\n",
    "# and mothers that did not smoke (False)\n",
    "... "
   ]
  },
  {
   "cell_type": "code",
   "execution_count": 5,
   "metadata": {},
   "outputs": [
    {
     "data": {
      "image/png": "[encoded data removed]",
      "text/plain": [
       "<Figure size 432x288 with 1 Axes>"
      ]
     },
     "metadata": {},
     "output_type": "display_data"
    }
   ],
   "source": [
    "# Run this cell to show a visualization of the percent of mothers that smoked\n",
    "# and did not smoke on the same histogram\n",
    "smoking_and_birthweight.hist('Birth Weight', group='Maternal Smoker')"
   ]
  },
  {
   "cell_type": "code",
   "execution_count": 6,
   "metadata": {},
   "outputs": [
    {
     "data": {
      "text/html": [
       "<table border=\"1\" class=\"dataframe\">\n",
       "    <thead>\n",
       "        <tr>\n",
       "            <th>Birth Weight</th> <th>Gestational Days</th> <th>Maternal Age</th> <th>Maternal Height</th> <th>Maternal Pregnancy Weight</th> <th>Maternal Smoker</th>\n",
       "        </tr>\n",
       "    </thead>\n",
       "    <tbody>\n",
       "        <tr>\n",
       "            <td>146         </td> <td>263             </td> <td>39          </td> <td>53             </td> <td>110                      </td> <td>True           </td>\n",
       "        </tr>\n",
       "        <tr>\n",
       "            <td>141         </td> <td>281             </td> <td>29          </td> <td>54             </td> <td>156                      </td> <td>True           </td>\n",
       "        </tr>\n",
       "        <tr>\n",
       "            <td>105         </td> <td>270             </td> <td>22          </td> <td>56             </td> <td>93                       </td> <td>False          </td>\n",
       "        </tr>\n",
       "        <tr>\n",
       "            <td>99          </td> <td>249             </td> <td>31          </td> <td>57             </td> <td>98                       </td> <td>True           </td>\n",
       "        </tr>\n",
       "        <tr>\n",
       "            <td>146         </td> <td>280             </td> <td>26          </td> <td>58             </td> <td>106                      </td> <td>False          </td>\n",
       "        </tr>\n",
       "        <tr>\n",
       "            <td>107         </td> <td>244             </td> <td>20          </td> <td>58             </td> <td>97                       </td> <td>False          </td>\n",
       "        </tr>\n",
       "        <tr>\n",
       "            <td>108         </td> <td>268             </td> <td>22          </td> <td>58             </td> <td>112                      </td> <td>True           </td>\n",
       "        </tr>\n",
       "        <tr>\n",
       "            <td>131         </td> <td>308             </td> <td>30          </td> <td>58             </td> <td>150                      </td> <td>True           </td>\n",
       "        </tr>\n",
       "        <tr>\n",
       "            <td>116         </td> <td>286             </td> <td>22          </td> <td>58             </td> <td>105                      </td> <td>True           </td>\n",
       "        </tr>\n",
       "        <tr>\n",
       "            <td>107         </td> <td>268             </td> <td>37          </td> <td>58             </td> <td>112                      </td> <td>True           </td>\n",
       "        </tr>\n",
       "    </tbody>\n",
       "</table>\n",
       "<p>... (1164 rows omitted)</p>"
      ],
      "text/plain": [
       "Birth Weight | Gestational Days | Maternal Age | Maternal Height | Maternal Pregnancy Weight | Maternal Smoker\n",
       "146          | 263              | 39           | 53              | 110                       | True\n",
       "141          | 281              | 29           | 54              | 156                       | True\n",
       "105          | 270              | 22           | 56              | 93                        | False\n",
       "99           | 249              | 31           | 57              | 98                        | True\n",
       "146          | 280              | 26           | 58              | 106                       | False\n",
       "107          | 244              | 20           | 58              | 97                        | False\n",
       "108          | 268              | 22           | 58              | 112                       | True\n",
       "131          | 308              | 30           | 58              | 150                       | True\n",
       "116          | 286              | 22           | 58              | 105                       | True\n",
       "107          | 268              | 37           | 58              | 112                       | True\n",
       "... (1164 rows omitted)"
      ]
     },
     "execution_count": 6,
     "metadata": {},
     "output_type": "execute_result"
    }
   ],
   "source": [
    "# Sort the original table `births` by `Maternal Height` in ascending order\n",
    "# In your opinion, does this provide any useful information?\n",
    "..."
   ]
  },
  {
   "cell_type": "markdown",
   "metadata": {},
   "source": [
    "## Test Statistic\n"
   ]
  },
  {
   "cell_type": "code",
   "execution_count": 7,
   "metadata": {},
   "outputs": [
    {
     "data": {
      "text/html": [
       "<table border=\"1\" class=\"dataframe\">\n",
       "    <thead>\n",
       "        <tr>\n",
       "            <th>Maternal Smoker</th> <th>Birth Weight average</th>\n",
       "        </tr>\n",
       "    </thead>\n",
       "    <tbody>\n",
       "        <tr>\n",
       "            <td>False          </td> <td>123.085             </td>\n",
       "        </tr>\n",
       "        <tr>\n",
       "            <td>True           </td> <td>113.819             </td>\n",
       "        </tr>\n",
       "    </tbody>\n",
       "</table>"
      ],
      "text/plain": [
       "Maternal Smoker | Birth Weight average\n",
       "False           | 123.085\n",
       "True            | 113.819"
      ]
     },
     "execution_count": 7,
     "metadata": {},
     "output_type": "execute_result"
    }
   ],
   "source": [
    "# Use the table `smoking_and_birthweight`, determine\n",
    "# the avearge birth weight for each group\n",
    "\n",
    "means_table = ...\n",
    "means_table"
   ]
  },
  {
   "cell_type": "code",
   "execution_count": 8,
   "metadata": {},
   "outputs": [
    {
     "data": {
      "text/plain": [
       "-9.266142572024918"
      ]
     },
     "execution_count": 8,
     "metadata": {},
     "output_type": "execute_result"
    }
   ],
   "source": [
    "# Use the table `means_table` to calculate the observed test statistic\n",
    "# You can create an intermediate step by assigning to `means` the value of the \n",
    "# column of interest (ie the Birth weight average#\n",
    "# Recall, the test statistic for this example is the difference between the \n",
    "# mean baby birth weight of the moms that smoked and the mean baby birth weight of\n",
    "# the moms that did not smoke.  Assign this value to `observed_difference\n",
    "\n",
    "means = ...\n",
    "observed_difference = ...\n",
    "observed_difference"
   ]
  },
  {
   "cell_type": "code",
   "execution_count": 9,
   "metadata": {},
   "outputs": [],
   "source": [
    "# Below is a function that could calculate the statistic\n",
    "# but is flexible enough to work on any table when you\n",
    "# specify the column label that contains numerical values\n",
    "# that you want to average, and the grouping label\n",
    "# Look over the format of the function to make sure\n",
    "# you completely understand what is going on\n",
    "\n",
    "def difference_of_means(table, label, group_label):\n",
    "\n",
    "    # create table with only the two relevant columns\n",
    "    reduced = table.select(label, group_label)  \n",
    "    \n",
    "    # create table containing group means\n",
    "    means_table = reduced.group(group_label, np.average)\n",
    "    \n",
    "    # pull just the column/array with the group means\n",
    "    # use .column(1) since predicted the label is hard\n",
    "    means = means_table.column(1)\n",
    "    \n",
    "    # return the difference between the two elements\n",
    "    return means.item(1) - means.item(0)"
   ]
  },
  {
   "cell_type": "code",
   "execution_count": 10,
   "metadata": {},
   "outputs": [
    {
     "data": {
      "text/plain": [
       "-9.266142572024918"
      ]
     },
     "execution_count": 10,
     "metadata": {},
     "output_type": "execute_result"
    }
   ],
   "source": [
    "# Use the function `difference_of_means` to calculate the observed statistic\n",
    "# Hint: look at the function above and observe what is being `taking in` when the \n",
    "# function is used\n",
    "# Hint #2: the label used is `Birth Weight`\n",
    "\n",
    "..."
   ]
  },
  {
   "cell_type": "code",
   "execution_count": null,
   "metadata": {},
   "outputs": [
    {
     "data": {
      "text/plain": [
       "-1.9765223882870941"
      ]
     },
     "execution_count": 11,
     "metadata": {},
     "output_type": "execute_result"
    }
   ],
   "source": [
    "# Since the function provides flexibility, look at a few other variables\n",
    "# Use the function to look at Gestational Days as a label\n",
    "\n",
    "..."
   ]
  },
  {
   "cell_type": "code",
   "execution_count": 12,
   "metadata": {},
   "outputs": [
    {
     "data": {
      "text/plain": [
       "-0.8076725017901509"
      ]
     },
     "execution_count": 12,
     "metadata": {},
     "output_type": "execute_result"
    }
   ],
   "source": [
    "# Use the function to look at Maternal Age as a label\n",
    "..."
   ]
  },
  {
   "cell_type": "markdown",
   "metadata": {},
   "source": [
    "# Random Permutation (Shuffling)"
   ]
  },
  {
   "cell_type": "code",
   "execution_count": 14,
   "metadata": {},
   "outputs": [
    {
     "data": {
      "text/html": [
       "<table border=\"1\" class=\"dataframe\">\n",
       "    <thead>\n",
       "        <tr>\n",
       "            <th>Letter</th>\n",
       "        </tr>\n",
       "    </thead>\n",
       "    <tbody>\n",
       "        <tr>\n",
       "            <td>a     </td>\n",
       "        </tr>\n",
       "        <tr>\n",
       "            <td>b     </td>\n",
       "        </tr>\n",
       "        <tr>\n",
       "            <td>c     </td>\n",
       "        </tr>\n",
       "        <tr>\n",
       "            <td>d     </td>\n",
       "        </tr>\n",
       "        <tr>\n",
       "            <td>e     </td>\n",
       "        </tr>\n",
       "    </tbody>\n",
       "</table>"
      ],
      "text/plain": [
       "Letter\n",
       "a\n",
       "b\n",
       "c\n",
       "d\n",
       "e"
      ]
     },
     "execution_count": 14,
     "metadata": {},
     "output_type": "execute_result"
    }
   ],
   "source": [
    "# Run this cell\n",
    "letters = Table().with_column('Letter', make_array('a', 'b', 'c', 'd', 'e'))\n",
    "letters"
   ]
  },
  {
   "cell_type": "code",
   "execution_count": 15,
   "metadata": {},
   "outputs": [
    {
     "data": {
      "text/html": [
       "<table border=\"1\" class=\"dataframe\">\n",
       "    <thead>\n",
       "        <tr>\n",
       "            <th>Letter</th>\n",
       "        </tr>\n",
       "    </thead>\n",
       "    <tbody>\n",
       "        <tr>\n",
       "            <td>d     </td>\n",
       "        </tr>\n",
       "        <tr>\n",
       "            <td>c     </td>\n",
       "        </tr>\n",
       "        <tr>\n",
       "            <td>c     </td>\n",
       "        </tr>\n",
       "        <tr>\n",
       "            <td>e     </td>\n",
       "        </tr>\n",
       "        <tr>\n",
       "            <td>c     </td>\n",
       "        </tr>\n",
       "    </tbody>\n",
       "</table>"
      ],
      "text/plain": [
       "Letter\n",
       "d\n",
       "c\n",
       "c\n",
       "e\n",
       "c"
      ]
     },
     "execution_count": 15,
     "metadata": {},
     "output_type": "execute_result"
    }
   ],
   "source": [
    "# Take a sample of size 5 of the table `letters` (with replacement)\n",
    "# There is no need to specify the sample size.  It is the same as the number\n",
    "# in the original table when it is not specified\n",
    "# What do you notice?\n",
    "..."
   ]
  },
  {
   "cell_type": "code",
   "execution_count": 16,
   "metadata": {},
   "outputs": [
    {
     "data": {
      "text/html": [
       "<table border=\"1\" class=\"dataframe\">\n",
       "    <thead>\n",
       "        <tr>\n",
       "            <th>Letter</th>\n",
       "        </tr>\n",
       "    </thead>\n",
       "    <tbody>\n",
       "        <tr>\n",
       "            <td>c     </td>\n",
       "        </tr>\n",
       "        <tr>\n",
       "            <td>a     </td>\n",
       "        </tr>\n",
       "        <tr>\n",
       "            <td>e     </td>\n",
       "        </tr>\n",
       "        <tr>\n",
       "            <td>b     </td>\n",
       "        </tr>\n",
       "        <tr>\n",
       "            <td>d     </td>\n",
       "        </tr>\n",
       "    </tbody>\n",
       "</table>"
      ],
      "text/plain": [
       "Letter\n",
       "c\n",
       "a\n",
       "e\n",
       "b\n",
       "d"
      ]
     },
     "execution_count": 16,
     "metadata": {},
     "output_type": "execute_result"
    }
   ],
   "source": [
    "# Take a sample of the table `letter` (without replacement)\n",
    "# There is no need to specify the sample size.  It is the same as the number\n",
    "# in the original table when it is not specified\n",
    "# What do you notice?\n",
    "..."
   ]
  },
  {
   "cell_type": "code",
   "execution_count": 19,
   "metadata": {},
   "outputs": [
    {
     "data": {
      "text/html": [
       "<table border=\"1\" class=\"dataframe\">\n",
       "    <thead>\n",
       "        <tr>\n",
       "            <th>Letter</th> <th>Shuffled</th>\n",
       "        </tr>\n",
       "    </thead>\n",
       "    <tbody>\n",
       "        <tr>\n",
       "            <td>a     </td> <td>d       </td>\n",
       "        </tr>\n",
       "        <tr>\n",
       "            <td>b     </td> <td>b       </td>\n",
       "        </tr>\n",
       "        <tr>\n",
       "            <td>c     </td> <td>c       </td>\n",
       "        </tr>\n",
       "        <tr>\n",
       "            <td>d     </td> <td>e       </td>\n",
       "        </tr>\n",
       "        <tr>\n",
       "            <td>e     </td> <td>a       </td>\n",
       "        </tr>\n",
       "    </tbody>\n",
       "</table>"
      ],
      "text/plain": [
       "Letter | Shuffled\n",
       "a      | d\n",
       "b      | b\n",
       "c      | c\n",
       "d      | e\n",
       "e      | a"
      ]
     },
     "execution_count": 19,
     "metadata": {},
     "output_type": "execute_result"
    }
   ],
   "source": [
    "# Assign to `shuffled_letters` a sample without replacement \n",
    "# of the table `letters` (There is no need to specify the sample size.  It is the same as the number\n",
    "# in the original table when it is not specified)\n",
    "# Since you want the information within the column, use .column(0) at the end\n",
    "# Then add a column to the table `letters` called `Shuffled`, that takes the information from \n",
    "# the assigment statement `shuffled_letters`\n",
    "\n",
    "shuffled_letters = ...\n",
    "... "
   ]
  },
  {
   "cell_type": "markdown",
   "metadata": {},
   "source": [
    "# Simulation Under Null Hypothesis"
   ]
  },
  {
   "cell_type": "code",
   "execution_count": 20,
   "metadata": {},
   "outputs": [
    {
     "data": {
      "text/html": [
       "<table border=\"1\" class=\"dataframe\">\n",
       "    <thead>\n",
       "        <tr>\n",
       "            <th>Maternal Smoker</th> <th>Birth Weight</th>\n",
       "        </tr>\n",
       "    </thead>\n",
       "    <tbody>\n",
       "        <tr>\n",
       "            <td>False          </td> <td>120         </td>\n",
       "        </tr>\n",
       "        <tr>\n",
       "            <td>False          </td> <td>113         </td>\n",
       "        </tr>\n",
       "        <tr>\n",
       "            <td>True           </td> <td>128         </td>\n",
       "        </tr>\n",
       "        <tr>\n",
       "            <td>True           </td> <td>108         </td>\n",
       "        </tr>\n",
       "        <tr>\n",
       "            <td>False          </td> <td>136         </td>\n",
       "        </tr>\n",
       "        <tr>\n",
       "            <td>False          </td> <td>138         </td>\n",
       "        </tr>\n",
       "        <tr>\n",
       "            <td>False          </td> <td>132         </td>\n",
       "        </tr>\n",
       "        <tr>\n",
       "            <td>False          </td> <td>120         </td>\n",
       "        </tr>\n",
       "        <tr>\n",
       "            <td>True           </td> <td>143         </td>\n",
       "        </tr>\n",
       "        <tr>\n",
       "            <td>False          </td> <td>140         </td>\n",
       "        </tr>\n",
       "    </tbody>\n",
       "</table>\n",
       "<p>... (1164 rows omitted)</p>"
      ],
      "text/plain": [
       "Maternal Smoker | Birth Weight\n",
       "False           | 120\n",
       "False           | 113\n",
       "True            | 128\n",
       "True            | 108\n",
       "False           | 136\n",
       "False           | 138\n",
       "False           | 132\n",
       "False           | 120\n",
       "True            | 143\n",
       "False           | 140\n",
       "... (1164 rows omitted)"
      ]
     },
     "execution_count": 20,
     "metadata": {},
     "output_type": "execute_result"
    }
   ],
   "source": [
    "# Run this cell\n",
    "smoking_and_birthweight"
   ]
  },
  {
   "cell_type": "code",
   "execution_count": 21,
   "metadata": {},
   "outputs": [],
   "source": [
    "# Assign to `shuffled_labels` a sample of smoking_and_birthweight without replacement\n",
    "# We are only interested in the information contained in the rows of \n",
    "# the column `Maternal Smoker`\n",
    "shuffled_labels = ..."
   ]
  },
  {
   "cell_type": "code",
   "execution_count": 22,
   "metadata": {},
   "outputs": [
    {
     "data": {
      "text/html": [
       "<table border=\"1\" class=\"dataframe\">\n",
       "    <thead>\n",
       "        <tr>\n",
       "            <th>Maternal Smoker</th> <th>Birth Weight</th> <th>Shuffled Label</th>\n",
       "        </tr>\n",
       "    </thead>\n",
       "    <tbody>\n",
       "        <tr>\n",
       "            <td>False          </td> <td>120         </td> <td>True          </td>\n",
       "        </tr>\n",
       "        <tr>\n",
       "            <td>False          </td> <td>113         </td> <td>False         </td>\n",
       "        </tr>\n",
       "        <tr>\n",
       "            <td>True           </td> <td>128         </td> <td>False         </td>\n",
       "        </tr>\n",
       "        <tr>\n",
       "            <td>True           </td> <td>108         </td> <td>False         </td>\n",
       "        </tr>\n",
       "        <tr>\n",
       "            <td>False          </td> <td>136         </td> <td>True          </td>\n",
       "        </tr>\n",
       "        <tr>\n",
       "            <td>False          </td> <td>138         </td> <td>True          </td>\n",
       "        </tr>\n",
       "        <tr>\n",
       "            <td>False          </td> <td>132         </td> <td>False         </td>\n",
       "        </tr>\n",
       "        <tr>\n",
       "            <td>False          </td> <td>120         </td> <td>True          </td>\n",
       "        </tr>\n",
       "        <tr>\n",
       "            <td>True           </td> <td>143         </td> <td>False         </td>\n",
       "        </tr>\n",
       "        <tr>\n",
       "            <td>False          </td> <td>140         </td> <td>False         </td>\n",
       "        </tr>\n",
       "    </tbody>\n",
       "</table>\n",
       "<p>... (1164 rows omitted)</p>"
      ],
      "text/plain": [
       "Maternal Smoker | Birth Weight | Shuffled Label\n",
       "False           | 120          | True\n",
       "False           | 113          | False\n",
       "True            | 128          | False\n",
       "True            | 108          | False\n",
       "False           | 136          | True\n",
       "False           | 138          | True\n",
       "False           | 132          | False\n",
       "False           | 120          | True\n",
       "True            | 143          | False\n",
       "False           | 140          | False\n",
       "... (1164 rows omitted)"
      ]
     },
     "execution_count": 22,
     "metadata": {},
     "output_type": "execute_result"
    }
   ],
   "source": [
    "# Create an assignment statement called `original_and_shuffled` that adds a \n",
    "# column `Shuffled Label` to the table `smoking_and_birthweight` and \n",
    "# takes the information for the column `Shuffled Label` from the `shuffled_labels` assignment\n",
    "# statement created above\n",
    "original_and_shuffled = ...\n",
    "original_and_shuffled"
   ]
  },
  {
   "cell_type": "code",
   "execution_count": 23,
   "metadata": {},
   "outputs": [
    {
     "data": {
      "text/plain": [
       "2.3098404863110744"
      ]
     },
     "execution_count": 23,
     "metadata": {},
     "output_type": "execute_result"
    }
   ],
   "source": [
    "# Use the function we created, `difference_of_means` on the table `original_and_shuffled`\n",
    "# Hint: the label used is again `Birth Weight` and the group label is `Shuffled Label`\n",
    "..."
   ]
  },
  {
   "cell_type": "code",
   "execution_count": 24,
   "metadata": {},
   "outputs": [
    {
     "data": {
      "text/plain": [
       "-9.266142572024918"
      ]
     },
     "execution_count": 24,
     "metadata": {},
     "output_type": "execute_result"
    }
   ],
   "source": [
    "# Use the function we created, `difference_of_means` on the table `original_and_shuffled`\n",
    "# Hint: the group label is `Maternal Smoker`\n",
    "..."
   ]
  },
  {
   "cell_type": "markdown",
   "metadata": {},
   "source": [
    "# Permutation Test"
   ]
  },
  {
   "cell_type": "code",
   "execution_count": 25,
   "metadata": {},
   "outputs": [],
   "source": [
    "# Below is a function to complete one simulated statistic\n",
    "# Look over the function to make sure you completely understand\n",
    "# each component\n",
    "\n",
    "def one_simulated_difference(table, label, group_label):\n",
    "\n",
    "    # select array of shuffled labels as an array\n",
    "    shuffled_labels = table.sample(with_replacement = False).column(group_label)\n",
    "    \n",
    "    # add in the shuffled labels as a new column to the provided table\n",
    "    shuffled_table = table.select(label).with_column('Shuffled Label', shuffled_labels)\n",
    "    \n",
    "    # return the difference of the means using the shuffled labels\n",
    "    return difference_of_means(shuffled_table, label, 'Shuffled Label')   "
   ]
  },
  {
   "cell_type": "code",
   "execution_count": 29,
   "metadata": {},
   "outputs": [
    {
     "data": {
      "text/plain": [
       "-3.9539253774547802"
      ]
     },
     "execution_count": 29,
     "metadata": {},
     "output_type": "execute_result"
    }
   ],
   "source": [
    "# Use the function `one_simulated_difference` on the table `births`, with a label\n",
    "# of `Birth Weight` and a group label of `Maternal Smoker`\n",
    "..."
   ]
  },
  {
   "cell_type": "code",
   "execution_count": 30,
   "metadata": {},
   "outputs": [],
   "source": [
    "# Simulate 2500 times and store statistics in an array\n",
    "\n",
    "# Create an assignment statement called `differences` that\n",
    "# is an empty array\n",
    "# Create a for loop that runs up to 2,500 times\n",
    "# Within the for loop, there is an assignment statement called\n",
    "# `new_difference` that is assigned the result of using the function \n",
    "# `one_simulated_difference' with the table used being `births`,\n",
    "# the label used being `Birth Weight`, and the group label used\n",
    "# being `Maternal Smoker`\n",
    "# Append to the assignment statement `differences` the results from \n",
    "# the assignment statement `new_difference` and assign this to \n",
    "# `difference` at the end of the for loop\n",
    "\n",
    "... \n",
    "\n",
    "for ... :\n",
    "    new_difference = ...\n",
    "    differences = ..."
   ]
  },
  {
   "cell_type": "code",
   "execution_count": 31,
   "metadata": {},
   "outputs": [
    {
     "name": "stdout",
     "output_type": "stream",
     "text": [
      "Observed Difference: -9.266142572024918\n"
     ]
    },
    {
     "data": {
      "image/png": "[encoded data removed]",
      "text/plain": [
       "<Figure size 432x288 with 1 Axes>"
      ]
     },
     "metadata": {},
     "output_type": "display_data"
    }
   ],
   "source": [
    "# Run this cell\n",
    "Table().with_column('Difference Between Group Means', differences).hist(bins=np.arange(-10, 4, 0.5))\n",
    "print('Observed Difference:', observed_difference)\n",
    "plots.title('Prediction Under the Null Hypothesis');"
   ]
  },
  {
   "cell_type": "markdown",
   "metadata": {},
   "source": [
    "## What About Gestational Days?"
   ]
  },
  {
   "cell_type": "code",
   "execution_count": null,
   "metadata": {},
   "outputs": [],
   "source": [
    "# Create an assignment statement called `observed_difference` that\n",
    "# uses the function `difference_of_means` on the table\n",
    "# `births`, using the label `Gestational Days`, and the group label\n",
    "# `Maternal Smoker`\n",
    "# Create an assignment statement called `differences` that\n",
    "# is an empty array\n",
    "# Create a for loop that runs up to 2,500 times\n",
    "# Within the for loop, there is an assignment statement called\n",
    "# `new_difference` that is assigned the result of using the function \n",
    "# `one_simulated_difference' with the table used being `births`,\n",
    "# the label used being `Birth Weight`, and the group label used\n",
    "# being `Maternal Smoker`\n",
    "# Append to the assignment statement `differences` the results from \n",
    "# the assignment statement `new_difference` and assign this to \n",
    "# `difference` at the end of the for loop\n",
    "\n",
    "observed_difference = ...\n",
    "\n",
    "differences = ...\n",
    "\n",
    "for ... :\n",
    "    new_difference = ...\n",
    "    differences = ..."
   ]
  },
  {
   "cell_type": "code",
   "execution_count": null,
   "metadata": {},
   "outputs": [],
   "source": [
    "# Run this cell \n",
    "Table().with_column('Difference Between Group Means', differences).hist(bins=np.arange(-4, 4, 0.5))\n",
    "print('Observed Difference:', observed_difference)\n",
    "plots.title('Prediction Under the Null Hypothesis');"
   ]
  },
  {
   "cell_type": "code",
   "execution_count": null,
   "metadata": {},
   "outputs": [],
   "source": [
    "# Here, we are calculating the p-value\n",
    "# Run this cell\n",
    "sum(differences <= observed_difference) / 2500\n"
   ]
  },
  {
   "cell_type": "code",
   "execution_count": null,
   "metadata": {},
   "outputs": [],
   "source": []
  }
 ],
 "metadata": {
  "kernelspec": {
   "display_name": "Python 3 (ipykernel)",
   "language": "python",
   "name": "python3"
  },
  "language_info": {
   "codemirror_mode": {
    "name": "ipython",
    "version": 3
   },
   "file_extension": ".py",
   "mimetype": "text/x-python",
   "name": "python",
   "nbconvert_exporter": "python",
   "pygments_lexer": "ipython3",
   "version": "3.10.5"
  }
 },
 "nbformat": 4,
 "nbformat_minor": 4
}
