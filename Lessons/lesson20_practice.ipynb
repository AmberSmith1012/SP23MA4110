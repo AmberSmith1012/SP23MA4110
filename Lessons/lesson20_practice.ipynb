{
 "cells": [
  {
   "cell_type": "code",
   "execution_count": null,
   "metadata": {},
   "outputs": [],
   "source": [
    "from datascience import *\n",
    "import numpy as np\n",
    "\n",
    "%matplotlib inline\n",
    "import matplotlib.pyplot as plots\n",
    "plots.style.use('fivethirtyeight')"
   ]
  },
  {
   "cell_type": "markdown",
   "metadata": {},
   "source": [
    "# A/B Testing: Comparing Two Samples"
   ]
  },
  {
   "cell_type": "code",
   "execution_count": null,
   "metadata": {},
   "outputs": [],
   "source": [
    "# Run this cell\n",
    "births = Table.read_table('data/baby.csv')\n",
    "births"
   ]
  },
  {
   "cell_type": "code",
   "execution_count": null,
   "metadata": {},
   "outputs": [],
   "source": [
    "# Assign to `smoking_and_birthweight` only the columns `Maternal Smoker` and `Birth Weight`\n",
    "smoking_and_birthweight = ...\n",
    "smoking_and_birthweight"
   ]
  },
  {
   "cell_type": "code",
   "execution_count": null,
   "metadata": {},
   "outputs": [],
   "source": [
    "# Using the table `smoking_and_birthweight`, determine the number of mothers that smoked (True)\n",
    "# and mothers that did not smoke (False)\n",
    "... "
   ]
  },
  {
   "cell_type": "code",
   "execution_count": null,
   "metadata": {},
   "outputs": [],
   "source": [
    "# Run this cell to show a visualization of the percent of mothers that smoked\n",
    "# and did not smoke on the same histogram\n",
    "smoking_and_birthweight.hist('Birth Weight', group='Maternal Smoker')"
   ]
  },
  {
   "cell_type": "code",
   "execution_count": null,
   "metadata": {},
   "outputs": [],
   "source": [
    "# Sort the original table `births` by `Maternal Height` in ascending order\n",
    "# In your opinion, does this provide any useful information?\n",
    "..."
   ]
  },
  {
   "cell_type": "markdown",
   "metadata": {},
   "source": [
    "## Test Statistic\n"
   ]
  },
  {
   "cell_type": "code",
   "execution_count": null,
   "metadata": {},
   "outputs": [],
   "source": [
    "# Use the table `smoking_and_birthweight`, determine\n",
    "# the avearge birth weight for each group\n",
    "\n",
    "means_table = ...\n",
    "means_table"
   ]
  },
  {
   "cell_type": "code",
   "execution_count": null,
   "metadata": {},
   "outputs": [],
   "source": [
    "# Use the table `means_table` to calculate the observed test statistic\n",
    "# You can create an intermediate step by assigning to `means` the value of the \n",
    "# column of interest (ie the Birth weight average#\n",
    "# Recall, the test statistic for this example is the difference between the \n",
    "# mean baby birth weight of the moms that smoked and the mean baby birth weight of\n",
    "# the moms that did not smoke.  Assign this value to `observed_difference\n",
    "\n",
    "means = ...\n",
    "observed_difference = ...\n",
    "observed_difference"
   ]
  },
  {
   "cell_type": "code",
   "execution_count": null,
   "metadata": {},
   "outputs": [],
   "source": [
    "# Below is a function that could calculate the statistic\n",
    "# but is flexible enough to work on any table when you\n",
    "# specify the column label that contains numerical values\n",
    "# that you want to average, and the grouping label\n",
    "# Look over the format of the function to make sure\n",
    "# you completely understand what is going on\n",
    "\n",
    "def difference_of_means(table, label, group_label):\n",
    "\n",
    "    # create table with only the two relevant columns\n",
    "    reduced = table.select(label, group_label)  \n",
    "    \n",
    "    # create table containing group means\n",
    "    means_table = reduced.group(group_label, np.average)\n",
    "    \n",
    "    # pull just the column/array with the group means\n",
    "    # use .column(1) since predicted the label is hard\n",
    "    means = means_table.column(1)\n",
    "    \n",
    "    # return the difference between the two elements\n",
    "    return means.item(1) - means.item(0)"
   ]
  },
  {
   "cell_type": "code",
   "execution_count": null,
   "metadata": {},
   "outputs": [],
   "source": [
    "# Use the function `difference_of_means` to calculate the observed statistic\n",
    "# Hint: look at the function above and observe what is being `taking in` when the \n",
    "# function is used\n",
    "# Hint #2: the label used is `Birth Weight`\n",
    "\n",
    "..."
   ]
  },
  {
   "cell_type": "code",
   "execution_count": null,
   "metadata": {},
   "outputs": [],
   "source": [
    "# Since the function provides flexibility, look at a few other variables\n",
    "# Use the function to look at Gestational Days as a label\n",
    "\n",
    "..."
   ]
  },
  {
   "cell_type": "code",
   "execution_count": null,
   "metadata": {},
   "outputs": [],
   "source": [
    "# Use the function to look at Maternal Age as a label\n",
    "..."
   ]
  },
  {
   "cell_type": "markdown",
   "metadata": {},
   "source": [
    "# Random Permutation (Shuffling)"
   ]
  },
  {
   "cell_type": "code",
   "execution_count": null,
   "metadata": {},
   "outputs": [],
   "source": [
    "# Run this cell\n",
    "letters = Table().with_column('Letter', make_array('a', 'b', 'c', 'd', 'e'))\n",
    "letters"
   ]
  },
  {
   "cell_type": "code",
   "execution_count": null,
   "metadata": {},
   "outputs": [],
   "source": [
    "# Take a sample of size 5 of the table `letters` (with replacement)\n",
    "# There is no need to specify the sample size.  It is the same as the number\n",
    "# in the original table when it is not specified\n",
    "# What do you notice?\n",
    "..."
   ]
  },
  {
   "cell_type": "code",
   "execution_count": null,
   "metadata": {},
   "outputs": [],
   "source": [
    "# Take a sample of the table `letter` (without replacement)\n",
    "# There is no need to specify the sample size.  It is the same as the number\n",
    "# in the original table when it is not specified\n",
    "# What do you notice?\n",
    "..."
   ]
  },
  {
   "cell_type": "code",
   "execution_count": null,
   "metadata": {},
   "outputs": [],
   "source": [
    "# Assign to `shuffled_letters` a sample without replacement \n",
    "# of the table `letters` (There is no need to specify the sample size.  It is the same as the number\n",
    "# in the original table when it is not specified)\n",
    "# Since you want the information within the column, use .column(0) at the end\n",
    "# Then add a column to the table `letters` called `Shuffled`, that takes the information from \n",
    "# the assigment statement `shuffled_letters`\n",
    "\n",
    "shuffled_letters = ...\n",
    "... "
   ]
  },
  {
   "cell_type": "markdown",
   "metadata": {},
   "source": [
    "# Simulation Under Null Hypothesis"
   ]
  },
  {
   "cell_type": "code",
   "execution_count": null,
   "metadata": {},
   "outputs": [],
   "source": [
    "# Run this cell\n",
    "smoking_and_birthweight"
   ]
  },
  {
   "cell_type": "code",
   "execution_count": null,
   "metadata": {},
   "outputs": [],
   "source": [
    "# Assign to `shuffled_labels` a sample of smoking_and_birthweight without replacement\n",
    "# We are only interested in the information contained in the rows of \n",
    "# the column `Maternal Smoker`\n",
    "shuffled_labels = ..."
   ]
  },
  {
   "cell_type": "code",
   "execution_count": null,
   "metadata": {},
   "outputs": [],
   "source": [
    "# Create an assignment statement called `original_and_shuffled` that adds a \n",
    "# column `Shuffled Label` to the table `smoking_and_birthweight` and \n",
    "# takes the information for the column `Shuffled Label` from the `shuffled_labels` assignment\n",
    "# statement created above\n",
    "original_and_shuffled = ...\n",
    "original_and_shuffled"
   ]
  },
  {
   "cell_type": "code",
   "execution_count": null,
   "metadata": {},
   "outputs": [],
   "source": [
    "# Use the function we created, `difference_of_means` on the table `original_and_shuffled`\n",
    "# Hint: the label used is again `Birth Weight` and the group label is `Shuffled Label`\n",
    "..."
   ]
  },
  {
   "cell_type": "code",
   "execution_count": null,
   "metadata": {},
   "outputs": [],
   "source": [
    "# Use the function we created, `difference_of_means` on the table `original_and_shuffled`\n",
    "# Hint: the group label is `Maternal Smoker`\n",
    "..."
   ]
  },
  {
   "cell_type": "markdown",
   "metadata": {},
   "source": [
    "# Permutation Test"
   ]
  },
  {
   "cell_type": "code",
   "execution_count": null,
   "metadata": {},
   "outputs": [],
   "source": [
    "# Below is a function to complete one simulated statistic\n",
    "# Look over the function to make sure you completely understand\n",
    "# each component\n",
    "\n",
    "def one_simulated_difference(table, label, group_label):\n",
    "\n",
    "    # select array of shuffled labels as an array\n",
    "    shuffled_labels = table.sample(with_replacement = False).column(group_label)\n",
    "    \n",
    "    # add in the shuffled labels as a new column to the provided table\n",
    "    shuffled_table = table.select(label).with_column('Shuffled Label', shuffled_labels)\n",
    "    \n",
    "    # return the difference of the means using the shuffled labels\n",
    "    return difference_of_means(shuffled_table, label, 'Shuffled Label')   "
   ]
  },
  {
   "cell_type": "code",
   "execution_count": null,
   "metadata": {},
   "outputs": [],
   "source": [
    "# Use the function `one_simulated_difference` on the table `births`, with a label\n",
    "# of `Birth Weight` and a group label of `Maternal Smoker`\n",
    "..."
   ]
  },
  {
   "cell_type": "code",
   "execution_count": null,
   "metadata": {},
   "outputs": [],
   "source": [
    "# Simulate 2500 times and store statistics in an array\n",
    "\n",
    "# Create an assignment statement called `differences` that\n",
    "# is an empty array\n",
    "# Create a for loop that runs up to 2,500 times\n",
    "# Within the for loop, there is an assignment statement called\n",
    "# `new_difference` that is assigned the result of using the function \n",
    "# `one_simulated_difference' with the table used being `births`,\n",
    "# the label used being `Birth Weight`, and the group label used\n",
    "# being `Maternal Smoker`\n",
    "# Append to the assignment statement `differences` the results from \n",
    "# the assignment statement `new_difference` and assign this to \n",
    "# `difference` at the end of the for loop\n",
    "\n",
    "... \n",
    "\n",
    "for ... :\n",
    "    new_difference = ...\n",
    "    differences = ..."
   ]
  },
  {
   "cell_type": "code",
   "execution_count": null,
   "metadata": {},
   "outputs": [],
   "source": [
    "# Run this cell\n",
    "Table().with_column('Difference Between Group Means', differences).hist(bins=np.arange(-10, 4, 0.5))\n",
    "print('Observed Difference:', observed_difference)\n",
    "plots.title('Prediction Under the Null Hypothesis');"
   ]
  },
  {
   "cell_type": "markdown",
   "metadata": {},
   "source": [
    "## What About Gestational Days?"
   ]
  },
  {
   "cell_type": "code",
   "execution_count": null,
   "metadata": {},
   "outputs": [],
   "source": [
    "# Create an assignment statement called `observed_difference` that\n",
    "# uses the function `difference_of_means` on the table\n",
    "# `births`, using the label `Gestational Days`, and the group label\n",
    "# `Maternal Smoker`\n",
    "# Create an assignment statement called `differences` that\n",
    "# is an empty array\n",
    "# Create a for loop that runs up to 2,500 times\n",
    "# Within the for loop, there is an assignment statement called\n",
    "# `new_difference` that is assigned the result of using the function \n",
    "# `one_simulated_difference' with the table used being `births`,\n",
    "# the label used being `Birth Weight`, and the group label used\n",
    "# being `Maternal Smoker`\n",
    "# Append to the assignment statement `differences` the results from \n",
    "# the assignment statement `new_difference` and assign this to \n",
    "# `difference` at the end of the for loop\n",
    "\n",
    "observed_difference = ...\n",
    "\n",
    "differences = ...\n",
    "\n",
    "for ... :\n",
    "    new_difference = ...\n",
    "    differences = ..."
   ]
  },
  {
   "cell_type": "code",
   "execution_count": null,
   "metadata": {},
   "outputs": [],
   "source": [
    "# Run this cell \n",
    "Table().with_column('Difference Between Group Means', differences).hist(bins=np.arange(-4, 4, 0.5))\n",
    "print('Observed Difference:', observed_difference)\n",
    "plots.title('Prediction Under the Null Hypothesis');"
   ]
  },
  {
   "cell_type": "code",
   "execution_count": null,
   "metadata": {},
   "outputs": [],
   "source": [
    "# Here, we are calculating the p-value\n",
    "# Run this cell\n",
    "sum(differences <= observed_difference) / 2500\n"
   ]
  },
  {
   "cell_type": "code",
   "execution_count": null,
   "metadata": {},
   "outputs": [],
   "source": []
  }
 ],
 "metadata": {
  "kernelspec": {
   "display_name": "Python 3 (ipykernel)",
   "language": "python",
   "name": "python3"
  },
  "language_info": {
   "codemirror_mode": {
    "name": "ipython",
    "version": 3
   },
   "file_extension": ".py",
   "mimetype": "text/x-python",
   "name": "python",
   "nbconvert_exporter": "python",
   "pygments_lexer": "ipython3",
   "version": "3.10.5"
  }
 },
 "nbformat": 4,
 "nbformat_minor": 4
}
