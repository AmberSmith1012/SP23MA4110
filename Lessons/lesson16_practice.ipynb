{
 "cells": [
  {
   "cell_type": "code",
   "execution_count": null,
   "metadata": {},
   "outputs": [],
   "source": [
    "from datascience import *\n",
    "import numpy as np\n",
    "\n",
    "%matplotlib inline\n",
    "import matplotlib.pyplot as plots\n",
    "plots.style.use('fivethirtyeight')"
   ]
  },
  {
   "cell_type": "markdown",
   "metadata": {},
   "source": [
    "## Large Random Samples"
   ]
  },
  {
   "cell_type": "code",
   "execution_count": null,
   "metadata": {},
   "outputs": [],
   "source": [
    "# Run this cell\n",
    "united = Table.read_table('data/united.csv')\n",
    "united = united.with_column('Row', np.arange(united.num_rows)).move_to_start('Row')\n",
    "united"
   ]
  },
  {
   "cell_type": "markdown",
   "metadata": {},
   "source": [
    "## Statistics"
   ]
  },
  {
   "cell_type": "code",
   "execution_count": null,
   "metadata": {},
   "outputs": [],
   "source": [
    "# (Population) Parameter\n",
    "# Run this cell\n",
    "np.median(united.column('Delay'))"
   ]
  },
  {
   "cell_type": "code",
   "execution_count": null,
   "metadata": {},
   "outputs": [],
   "source": [
    "# (Sample) Statistic\n",
    "# Find the median delay time of a sample size of 10\n",
    "... "
   ]
  },
  {
   "cell_type": "code",
   "execution_count": null,
   "metadata": {},
   "outputs": [],
   "source": [
    "# (Sample) Statistic\n",
    "# Find the median delay time of a sample size of 100\n",
    "... "
   ]
  },
  {
   "cell_type": "code",
   "execution_count": null,
   "metadata": {},
   "outputs": [],
   "source": [
    "# (Sample) Statistic\n",
    "# Find the median delay time of a sample size of 500\n",
    "... "
   ]
  },
  {
   "cell_type": "markdown",
   "metadata": {},
   "source": [
    "### Probability & Empirical Distributions of a Statistic"
   ]
  },
  {
   "cell_type": "code",
   "execution_count": null,
   "metadata": {},
   "outputs": [],
   "source": [
    "# Create a function called `sample_median` that will take \n",
    "# the parameter `size` and return the median of the results \n",
    "# from taking a sample from the table `united`, of sample size\n",
    "# `size` using the attribute `Delay`\n",
    "def ... :\n",
    "    return ..."
   ]
  },
  {
   "cell_type": "code",
   "execution_count": null,
   "metadata": {},
   "outputs": [],
   "source": [
    "# Using the function `sample_median`\n",
    "# Find the median of a sample of size 10\n",
    "... "
   ]
  },
  {
   "cell_type": "code",
   "execution_count": null,
   "metadata": {},
   "outputs": [],
   "source": [
    "# assign 2000 to `num_simulations`\n",
    "..."
   ]
  },
  {
   "cell_type": "code",
   "execution_count": null,
   "metadata": {},
   "outputs": [],
   "source": [
    "# Create an assignment statement called `sample_medians` that\n",
    "# is an \"empty\" array\n",
    "# Then, create a for loop that runs up to `num_simulations` times\n",
    "# Within the for loop, there is an assignment statement called\n",
    "# `new_median` that is assigned the result of using the function \n",
    "# `sample_median' for a sample size of 10\n",
    "# Append to the assignment statement `sample_medians` the results from \n",
    "# the assignment statement `new_median` and assign this to \n",
    "# `sample_medians` at the end of the for loop\n",
    "\n",
    "sample_medians = ...\n",
    "\n",
    "for ... :\n",
    "    new_median = ... \n",
    "    sample_medians = ..."
   ]
  },
  {
   "cell_type": "code",
   "execution_count": null,
   "metadata": {},
   "outputs": [],
   "source": [
    "# Run this cell\n",
    "# What do you notice?\n",
    "Table().with_column('Sample medians (size=10)', sample_medians).hist(bins=np.arange(-10, 35, 2))"
   ]
  },
  {
   "cell_type": "code",
   "execution_count": null,
   "metadata": {},
   "outputs": [],
   "source": [
    "# Create an assignment statement called `sample_medians` that\n",
    "# is an \"empty\" array\n",
    "# Then, create a for loop that runs up to `num_simulations` times\n",
    "# Within the for loop, there is an assignment statement called\n",
    "# `new_median` that is assigned the result of using the function \n",
    "# `sample_median' for a sample size of 100\n",
    "# Append to the assignment statement `sample_medians` the results from \n",
    "# the assignment statement `new_median` and assign this to \n",
    "# `sample_medians` at the end of the for loop\n",
    "\n",
    "sample_medians = ...\n",
    "\n",
    "for ... :\n",
    "    new_median = ... \n",
    "    sample_medians = ..."
   ]
  },
  {
   "cell_type": "code",
   "execution_count": null,
   "metadata": {},
   "outputs": [],
   "source": [
    "# Run this cell\n",
    "# What do you notice?\n",
    "Table().with_column('Sample medians (size=100)', sample_medians).hist(bins=np.arange(-1, 11, 1))"
   ]
  },
  {
   "cell_type": "code",
   "execution_count": null,
   "metadata": {},
   "outputs": [],
   "source": [
    "# Create an assignment statement called `sample_medians` that\n",
    "# is an \"empty\" array\n",
    "# Then, create a for loop that runs up to `num_simulations` times\n",
    "# Within the for loop, there is an assignment statement called\n",
    "# `new_median` that is assigned the result of using the function \n",
    "# `sample_median' for a sample size of 1,000\n",
    "# Append to the assignment statement `sample_medians` the results from \n",
    "# the assignment statement `new_median` and assign this to \n",
    "# `sample_medians` at the end of the for loop\n",
    "\n",
    "sample_medians = ...\n",
    "\n",
    "for ... :\n",
    "    new_median = ... \n",
    "    sample_medians = ..."
   ]
  },
  {
   "cell_type": "code",
   "execution_count": null,
   "metadata": {},
   "outputs": [],
   "source": [
    "# Run this cell\n",
    "# What do you notice?\n",
    "Table().with_column('Sample medians (size=1K)', sample_medians).hist(bins=np.arange(0, 7, 1))"
   ]
  },
  {
   "cell_type": "markdown",
   "metadata": {},
   "source": [
    "#### Empirical Distributions Overlayed"
   ]
  },
  {
   "cell_type": "code",
   "execution_count": null,
   "metadata": {},
   "outputs": [],
   "source": [
    "# Discuss what this cell is doing\n",
    "sample_medians_10 = make_array()\n",
    "sample_medians_100 = make_array()\n",
    "sample_medians_1000 = make_array()\n",
    "\n",
    "num_simulations = 2000\n",
    "\n",
    "for i in np.arange(num_simulations):\n",
    "    new_median_10 = sample_median(10)\n",
    "    sample_medians_10 = np.append(sample_medians_10, new_median_10)\n",
    "    new_median_100 = sample_median(100)\n",
    "    sample_medians_100 = np.append(sample_medians_100, new_median_100)\n",
    "    new_median_1000 = sample_median(1000)\n",
    "    sample_medians_1000 = np.append(sample_medians_1000, new_median_1000)"
   ]
  },
  {
   "cell_type": "code",
   "execution_count": null,
   "metadata": {},
   "outputs": [],
   "source": [
    "sample_medians = Table().with_columns('Size 10', sample_medians_10, \n",
    "                                      'Size 100', sample_medians_100,\n",
    "                                      'Size 1000', sample_medians_1000)"
   ]
  },
  {
   "cell_type": "code",
   "execution_count": null,
   "metadata": {},
   "outputs": [],
   "source": [
    "# Create a histogram using the table `sample_medians`\n",
    "# Use the bins created by using np.arange with values starting at\n",
    "# -5 and up to 30\n",
    "..."
   ]
  },
  {
   "cell_type": "markdown",
   "metadata": {},
   "source": [
    "## Swain vs. Alabama ##"
   ]
  },
  {
   "cell_type": "code",
   "execution_count": null,
   "metadata": {},
   "outputs": [],
   "source": [
    "# create an array with the values of .26 and .74\n",
    "population_proportions = ...\n",
    "population_proportions"
   ]
  },
  {
   "cell_type": "code",
   "execution_count": null,
   "metadata": {},
   "outputs": [],
   "source": [
    "# Use the built in function `sample_proportions` to \n",
    "# create a sample of size 100 based on the percentages\n",
    "# from the population distribution (ie. `population_proportions`)\n",
    "... "
   ]
  },
  {
   "cell_type": "code",
   "execution_count": null,
   "metadata": {},
   "outputs": [],
   "source": [
    "# Create a function `panel_proportion` that takes anything (i.e., use () )\n",
    "# and returns the 1st item of the array created by using\n",
    "# sample_proportions, with sample size of 100, based on the \n",
    "# population distribution\n",
    "...\n",
    "..."
   ]
  },
  {
   "cell_type": "code",
   "execution_count": null,
   "metadata": {},
   "outputs": [],
   "source": [
    "# Run this cell\n",
    "panel_proportion()"
   ]
  },
  {
   "cell_type": "code",
   "execution_count": null,
   "metadata": {},
   "outputs": [],
   "source": [
    "# Create an assignment statement called `panels` that\n",
    "# is an \"empty\" array\n",
    "# Then, create a for loop that runs 50,000 times\n",
    "# Within the for loop, there is an assignment statement called\n",
    "# `new_panel` that is assigned the result of using the function \n",
    "# `panel_proportion()` multiplied by 100\n",
    "# Append to the assignment statement `panels` the results from \n",
    "# the assignment statement `new_panel` and assign this to \n",
    "# `panels` at the end of the for loop\n",
    "\n",
    "panels = ...\n",
    "\n",
    "for ... :\n",
    "    new_panel = ...\n",
    "    panels = ..."
   ]
  },
  {
   "cell_type": "code",
   "execution_count": null,
   "metadata": {},
   "outputs": [],
   "source": [
    "# Run this cell\n",
    "# What do you notice?\n",
    "Table().with_column('Number of Black Men on Panel of 100', panels).hist(bins=np.arange(5.5,40.))"
   ]
  }
 ],
 "metadata": {
  "anaconda-cloud": {},
  "kernelspec": {
   "display_name": "Python 3 (ipykernel)",
   "language": "python",
   "name": "python3"
  },
  "language_info": {
   "codemirror_mode": {
    "name": "ipython",
    "version": 3
   },
   "file_extension": ".py",
   "mimetype": "text/x-python",
   "name": "python",
   "nbconvert_exporter": "python",
   "pygments_lexer": "ipython3",
   "version": "3.10.5"
  }
 },
 "nbformat": 4,
 "nbformat_minor": 4
}
