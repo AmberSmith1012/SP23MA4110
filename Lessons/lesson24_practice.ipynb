{
 "cells": [
  {
   "cell_type": "code",
   "execution_count": null,
   "metadata": {},
   "outputs": [],
   "source": [
    "from datascience import *\n",
    "%matplotlib inline\n",
    "import matplotlib.pyplot as plots\n",
    "plots.style.use('fivethirtyeight')\n",
    "import numpy as np"
   ]
  },
  {
   "cell_type": "markdown",
   "metadata": {},
   "source": [
    "# Bootstrap"
   ]
  },
  {
   "cell_type": "markdown",
   "metadata": {},
   "source": [
    "## Another Example: Mean Maternal Age"
   ]
  },
  {
   "cell_type": "code",
   "execution_count": null,
   "metadata": {},
   "outputs": [],
   "source": [
    "# This time we have a sample and not the population data!\n",
    "# Run this cell\n",
    "births = Table.read_table('data/baby.csv')\n",
    "births.show(5)"
   ]
  },
  {
   "cell_type": "code",
   "execution_count": null,
   "metadata": {},
   "outputs": [],
   "source": [
    "# Create a histogram of the maternal age\n",
    "..."
   ]
  },
  {
   "cell_type": "code",
   "execution_count": null,
   "metadata": {},
   "outputs": [],
   "source": [
    "# Find the mean maternal age\n",
    "mean_age = ...\n",
    "mean_age"
   ]
  },
  {
   "cell_type": "code",
   "execution_count": null,
   "metadata": {},
   "outputs": [],
   "source": [
    "# Create a function `one_bootstrap_mean` (use () ).  It should\n",
    "# return the avearge of the Maternal Age of the sample\n",
    "\n",
    "def ... :\n",
    "    return ..."
   ]
  },
  {
   "cell_type": "code",
   "execution_count": null,
   "metadata": {},
   "outputs": [],
   "source": [
    "# Create an assignment statement called `bootstrap_means` that\n",
    "# is an empty array\n",
    "# Create a for loop that runs up to 1,000 times\n",
    "# Within the for loop, there is an assignment statement called\n",
    "# `new_mean` that is assigned the result of using the function \n",
    "# `one_bootstrap_mean()` \n",
    "# Append to the assignment statement `bootstrap_means` the results from \n",
    "# the assignment statement `new_mean` and assign this to \n",
    "# `bootstrap_means` at the end of the for loop\n",
    "\n",
    "bootstrap_means = ... \n",
    "\n",
    "for ... :\n",
    "    new_mean = ... \n",
    "    bootstrap_means = ... \n",
    "\n",
    "# We would like to show the 95th Percentile here\n",
    "left = percentile(... , bootstrap_means)\n",
    "right = percentile(... , bootstrap_means)"
   ]
  },
  {
   "cell_type": "code",
   "execution_count": null,
   "metadata": {},
   "outputs": [],
   "source": [
    "# Run this cell\n",
    "# What do you notice?\n",
    "Table().with_column('Bootstrap means', bootstrap_means).hist()\n",
    "\n",
    "plots.plot([left,right], [0,0], color=\"gold\", lw=8, zorder=1);\n",
    "plots.scatter(mean_age,-1e-3,color=\"blue\", marker=\"^\", zorder=2);\n",
    "plots.title('Bootstrap Means (1K Bootstraps from our Sample)');"
   ]
  },
  {
   "cell_type": "code",
   "execution_count": null,
   "metadata": {},
   "outputs": [],
   "source": [
    "# Run this cell\n",
    "left, right"
   ]
  },
  {
   "cell_type": "markdown",
   "metadata": {},
   "source": [
    " ## Maternal Smoker Proportion"
   ]
  },
  {
   "cell_type": "code",
   "execution_count": null,
   "metadata": {},
   "outputs": [],
   "source": [
    "# Assign to `proportion_smoker` the proportion of maternal smokers\n",
    "proportion_smoker = ...\n",
    "proportion_smoker"
   ]
  },
  {
   "cell_type": "code",
   "execution_count": null,
   "metadata": {},
   "outputs": [],
   "source": [
    "# Create a function called `one_bootstrap_proportion` that returns the \n",
    "# proporiton of maternal smokers\n",
    "# Hint: The code above will be useful...\n",
    "def ... :\n",
    "    return ..."
   ]
  },
  {
   "cell_type": "code",
   "execution_count": null,
   "metadata": {},
   "outputs": [],
   "source": [
    "# Run this cell\n",
    "one_bootstrap_proportion()"
   ]
  },
  {
   "cell_type": "code",
   "execution_count": null,
   "metadata": {},
   "outputs": [],
   "source": [
    "# Create an assignment statement called `bootstrap_proportions` that\n",
    "# is an empty array\n",
    "# Create a for loop that runs up to 1,000 times\n",
    "# Within the for loop, there is an assignment statement called\n",
    "# `new_proportion` that is assigned the result of using the function \n",
    "# `one_bootstrap_proportion()` \n",
    "# Append to the assignment statement `bootstrap_proportions` the results from \n",
    "# the assignment statement `new_proportion` and assign this to \n",
    "# `bootstrap_proportions` at the end of the for loop\n",
    "\n",
    "bootstrap_proportions = ...\n",
    "\n",
    "for ... :\n",
    "    new_proportion = ...\n",
    "    bootstrap_proportions = ...\n",
    "    \n",
    "# We would like to show the 95th Percentile here\n",
    "left = percentile(... , bootstrap_proportions)\n",
    "right = percentile(... , bootstrap_proportions)"
   ]
  },
  {
   "cell_type": "code",
   "execution_count": null,
   "metadata": {},
   "outputs": [],
   "source": [
    "# Run this cell\n",
    "# What do you notice?\n",
    "Table().with_column('Bootstrap proportions', bootstrap_proportions).hist()\n",
    "\n",
    "plots.plot([left,right], [0,0], color=\"gold\", lw=8, zorder=1);\n",
    "plots.scatter(proportion_smoker,-1e-3,color=\"blue\", marker=\"^\", zorder=2);\n",
    "plots.title('Bootstrap Proportions (1K Bootstraps from our Sample)');"
   ]
  },
  {
   "cell_type": "code",
   "execution_count": null,
   "metadata": {},
   "outputs": [],
   "source": [
    "# Run this cell\n",
    "left, right"
   ]
  },
  {
   "cell_type": "markdown",
   "metadata": {},
   "source": [
    "## Using CI's for Testing"
   ]
  },
  {
   "cell_type": "code",
   "execution_count": null,
   "metadata": {},
   "outputs": [],
   "source": [
    "# Let's analyze what this function is doing\n",
    "\n",
    "def bootstrap_mean(original_sample, label, replications):\n",
    "    \n",
    "    just_one_column = original_sample.select(label)\n",
    "    means = make_array()\n",
    "    for i in np.arange(replications):\n",
    "        bootstrap_sample = just_one_column.sample()\n",
    "        resampled_mean = np.mean(bootstrap_sample.column(0))\n",
    "        means = np.append(means, resampled_mean)\n",
    "        \n",
    "    return means"
   ]
  },
  {
   "cell_type": "code",
   "execution_count": null,
   "metadata": {},
   "outputs": [],
   "source": [
    "# Run this cell\n",
    "hodgkins = Table.read_table('data/hodgkins.csv')\n",
    "hodgkins.show(5)"
   ]
  },
  {
   "cell_type": "code",
   "execution_count": null,
   "metadata": {},
   "outputs": [],
   "source": [
    "# Add a column labeled \"drop\" that is the difference between the `base`\n",
    "# and `month15` values\n",
    "hodgkins = ...\n",
    "hodgkins"
   ]
  },
  {
   "cell_type": "code",
   "execution_count": null,
   "metadata": {
    "tags": []
   },
   "outputs": [],
   "source": [
    "# Create a histogram of the values shown in the column `drop` from\n",
    "# the `hodgkins` table\n",
    "# Use the bins provided\n",
    "drop_bins = np.arange(-20, 81, 20)\n",
    "... "
   ]
  },
  {
   "cell_type": "code",
   "execution_count": null,
   "metadata": {},
   "outputs": [],
   "source": [
    "# Find the average of the values in the column `drop`\n",
    "... "
   ]
  },
  {
   "cell_type": "code",
   "execution_count": null,
   "metadata": {},
   "outputs": [],
   "source": [
    "# Assign to `bstrap_means the bootstrap_mean function, \n",
    "# running it 10,000 times, using the column drop' from the\n",
    "# hodgkins table\n",
    "bstrap_means = ... \n",
    "\n",
    "# We would like to show the 99th Percentile here\n",
    "left = percentile(... , bstrap_means)\n",
    "right = percentile(... , bstrap_means)\n",
    "\n",
    "make_array(left, right)"
   ]
  },
  {
   "cell_type": "code",
   "execution_count": null,
   "metadata": {},
   "outputs": [],
   "source": [
    "# Run this cell\n",
    "# What do you notice?\n",
    "resampled_means = Table().with_column(\n",
    "    'Bootstrap Sample Mean', bstrap_means)resampled_means.hist()\n",
    "plots.plot(make_array(left, right), make_array(0, 0), color='yellow', lw=8);"
   ]
  },
  {
   "cell_type": "code",
   "execution_count": null,
   "metadata": {},
   "outputs": [],
   "source": []
  }
 ],
 "metadata": {
  "anaconda-cloud": {},
  "kernelspec": {
   "display_name": "Python 3 (ipykernel)",
   "language": "python",
   "name": "python3"
  },
  "language_info": {
   "codemirror_mode": {
    "name": "ipython",
    "version": 3
   },
   "file_extension": ".py",
   "mimetype": "text/x-python",
   "name": "python",
   "nbconvert_exporter": "python",
   "pygments_lexer": "ipython3",
   "version": "3.10.5"
  }
 },
 "nbformat": 4,
 "nbformat_minor": 4
}
