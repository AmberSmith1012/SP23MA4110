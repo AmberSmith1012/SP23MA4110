{
 "cells": [
  {
   "cell_type": "code",
   "execution_count": null,
   "metadata": {},
   "outputs": [],
   "source": [
    "from datascience import *\n",
    "%matplotlib inline\n",
    "import matplotlib.pyplot as plots\n",
    "plots.style.use('fivethirtyeight')\n",
    "import numpy as np"
   ]
  },
  {
   "cell_type": "markdown",
   "metadata": {
    "tags": []
   },
   "source": [
    "## Average (Mean) ##"
   ]
  },
  {
   "cell_type": "code",
   "execution_count": null,
   "metadata": {},
   "outputs": [],
   "source": [
    "# Run this cell\n",
    "values = make_array(2, 3, 3, 9)"
   ]
  },
  {
   "cell_type": "code",
   "execution_count": null,
   "metadata": {},
   "outputs": [],
   "source": [
    "# Calculate the mean of the assignment statement\n",
    "# `values` the \"long way\"\n",
    "\n",
    "..."
   ]
  },
  {
   "cell_type": "code",
   "execution_count": null,
   "metadata": {},
   "outputs": [],
   "source": [
    "# Calculate the mean of the assignment statement\n",
    "# `values` using a numpy function\n",
    "\n",
    "..."
   ]
  },
  {
   "cell_type": "code",
   "execution_count": null,
   "metadata": {},
   "outputs": [],
   "source": [
    "# Calculate the mean of the assignment statement\n",
    "# `values` using another numpy function\n",
    "# Hint: Use the documentation, if needed\n",
    "\n",
    "..."
   ]
  },
  {
   "cell_type": "code",
   "execution_count": null,
   "metadata": {},
   "outputs": [],
   "source": [
    "# Create a new table called `values_table` that has one column\n",
    "# called `value` and takes the information for the column\n",
    "# from the assignment statement `values`\n",
    "\n",
    "...\n",
    "values_table"
   ]
  },
  {
   "cell_type": "code",
   "execution_count": null,
   "metadata": {},
   "outputs": [],
   "source": [
    "# Run this cell\n",
    "# What do you notice?\n",
    "bins_for_display = np.arange(0.5, 10.6, 1)\n",
    "values_table.hist(0, bins = bins_for_display)\n",
    "plots.scatter(np.mean(values),-1e-2,color=\"red\", marker=\"^\", zorder=2);\n",
    "plots.scatter(percentile(50, values),-1e-2,color=\"blue\", marker=\"^\", zorder=2);"
   ]
  },
  {
   "cell_type": "markdown",
   "metadata": {},
   "source": [
    "### Discussion Question"
   ]
  },
  {
   "cell_type": "code",
   "execution_count": null,
   "metadata": {},
   "outputs": [],
   "source": [
    "# Run this cell\n",
    "nba = Table.read_table('data/nba2013.csv')\n",
    "nba"
   ]
  },
  {
   "cell_type": "code",
   "execution_count": null,
   "metadata": {},
   "outputs": [],
   "source": [
    "# Create a histogram of the heights from the table `nba`\n",
    "# Use the provided bins\n",
    "\n",
    "nba_bins = np.arange(65.5, 90.5)\n",
    "..."
   ]
  },
  {
   "cell_type": "code",
   "execution_count": null,
   "metadata": {},
   "outputs": [],
   "source": [
    "# Find the median height of the NBA players\n",
    "\n",
    "... "
   ]
  },
  {
   "cell_type": "code",
   "execution_count": null,
   "metadata": {},
   "outputs": [],
   "source": [
    "# Find the average height of the NBA players\n",
    "\n",
    "..."
   ]
  },
  {
   "cell_type": "markdown",
   "metadata": {},
   "source": [
    "## Standard Deviation ##"
   ]
  },
  {
   "cell_type": "code",
   "execution_count": null,
   "metadata": {},
   "outputs": [],
   "source": [
    "# Create a table called `sd_table` with the column name `Value` \n",
    "# that uses the data from the list `values`\n",
    "\n",
    "... "
   ]
  },
  {
   "cell_type": "code",
   "execution_count": null,
   "metadata": {},
   "outputs": [],
   "source": [
    "# Find the average of the values in the table `sd_table` and\n",
    "# assign it to `average_value`\n",
    "\n",
    "... \n",
    "average_value"
   ]
  },
  {
   "cell_type": "code",
   "execution_count": null,
   "metadata": {},
   "outputs": [],
   "source": [
    "# Add a column named `Deviation` to the table `sd_table`\n",
    "# Calculate the deviations (the difference between each value and the\n",
    "# average value of the data set) and use it for the values\n",
    "# under the column `Deviation`\n",
    "\n",
    "sd_table = ...\n",
    "sd_table"
   ]
  },
  {
   "cell_type": "code",
   "execution_count": null,
   "metadata": {},
   "outputs": [],
   "source": [
    "# Find the total of the deviation values\n",
    "# Hint: Think about what built in function will help you \n",
    "# find the total of values...\n",
    "\n",
    "... "
   ]
  },
  {
   "cell_type": "code",
   "execution_count": null,
   "metadata": {},
   "outputs": [],
   "source": [
    "# Add a column called `Squared Deviation` to the table \n",
    "# `sd_table` that takes the values from squaring the \n",
    "# deviations\n",
    "\n",
    "sd_table = ...\n",
    "sd_table "
   ]
  },
  {
   "cell_type": "code",
   "execution_count": null,
   "metadata": {},
   "outputs": [],
   "source": [
    "# Find the variance of the data by adding up the values of the \n",
    "# squared deviations and then divide by the total \n",
    "# number of values added together\n",
    "# Assign this value to `variance`\n",
    "\n",
    "variance = ...\n",
    "variance"
   ]
  },
  {
   "cell_type": "code",
   "execution_count": null,
   "metadata": {},
   "outputs": [],
   "source": [
    "# Find the Standard Deviation (SD), which \n",
    "# is the square root of the variance.  Assign this value to `sd`\n",
    "\n",
    "sd = ...\n",
    "sd"
   ]
  },
  {
   "cell_type": "code",
   "execution_count": null,
   "metadata": {},
   "outputs": [],
   "source": [
    "# There is a numpy function that will do all of \n",
    "# this for us!  Find it in the documentation and use it on `values`\n",
    "\n",
    "..."
   ]
  },
  {
   "cell_type": "markdown",
   "metadata": {
    "id": "fscO46FtP8VR"
   },
   "source": [
    "## Chebyshev's Bounds"
   ]
  },
  {
   "cell_type": "code",
   "execution_count": null,
   "metadata": {
    "id": "yrIV2uo1P8VS"
   },
   "outputs": [],
   "source": [
    "# Run this cell\n",
    "\n",
    "births = Table.read_table('data/baby.csv').drop('Maternal Smoker')\n",
    "births.show(3)"
   ]
  },
  {
   "cell_type": "code",
   "execution_count": null,
   "metadata": {
    "id": "VN8pdqV6P8VX"
   },
   "outputs": [],
   "source": [
    "# Run this cell\n",
    "\n",
    "births.hist(overlay = False)"
   ]
  },
  {
   "cell_type": "code",
   "execution_count": null,
   "metadata": {
    "id": "3AcgRBabP8VZ"
   },
   "outputs": [],
   "source": [
    "# Assign to `mpw` an array that contains the information from the \n",
    "# column `Maternal Pregnancy Weight`\n",
    "# Assign to mean the mean of the Maternal Pregnancy Weight\n",
    "# Assign to sd the standard deviation of the Maternal Pregnancy Weight\n",
    "\n",
    "mpw = ... \n",
    "mean = ...\n",
    "sd = ...\n",
    "mean, sd"
   ]
  },
  {
   "cell_type": "code",
   "execution_count": null,
   "metadata": {
    "id": "OkXOgJTQP8Vd"
   },
   "outputs": [],
   "source": [
    "# Assign to `within_3_SDs the rows in the table `births` \n",
    "# where the Maternal Pregnancy Weight is between \n",
    "# 3 standard deviations from the mean in both directions\n",
    "# i.e. 3 SD to the left and 3 SD to the right\n",
    "\n",
    "within_3_SDs = ...\n",
    "within_3_SDs"
   ]
  },
  {
   "cell_type": "code",
   "execution_count": null,
   "metadata": {
    "id": "KvXKVRwsP8Vf"
   },
   "outputs": [],
   "source": [
    "# Find the proportion of Maternal Pregnancy Weights\n",
    "# that are within 3 SDs of the mean\n",
    "# Hint: Recall what finding a proportion implies\n",
    "\n",
    "..."
   ]
  },
  {
   "cell_type": "code",
   "execution_count": null,
   "metadata": {
    "id": "s4R7Z1AbP8Vh"
   },
   "outputs": [],
   "source": [
    "# Run this cell\n",
    "# Chebyshev's bound: \n",
    "# The proportion we calculated above should be at least\n",
    "\n",
    "1 - 1/(3**2)"
   ]
  },
  {
   "cell_type": "code",
   "execution_count": null,
   "metadata": {
    "id": "FJlVk2PzP8Vj"
   },
   "outputs": [],
   "source": [
    "# Run this cell\n",
    "\n",
    "births.labels"
   ]
  },
  {
   "cell_type": "code",
   "execution_count": null,
   "metadata": {
    "id": "psA26wWDP8Vl"
   },
   "outputs": [],
   "source": [
    "# Let's see if Chebyshev's bounds work for distributions\n",
    "# with various shapes\n",
    "# Run this cell \n",
    "\n",
    "for feature in births.labels:\n",
    "    values = births.column(feature)\n",
    "    mean = np.mean(values)\n",
    "    sd = np.std(values)\n",
    "    print()\n",
    "    print(feature)\n",
    "    for z in make_array(2, 3, 4, 5):\n",
    "        chosen = births.where(feature, are.between(mean - z*sd, mean + z*sd))\n",
    "        proportion = chosen.num_rows / births.num_rows\n",
    "        percent = round(proportion * 100, 2)\n",
    "        print('Average plus or minus', z, 'SDs:', percent, '% of the data')"
   ]
  },
  {
   "cell_type": "code",
   "execution_count": null,
   "metadata": {},
   "outputs": [],
   "source": []
  }
 ],
 "metadata": {
  "anaconda-cloud": {},
  "kernelspec": {
   "display_name": "Python 3 (ipykernel)",
   "language": "python",
   "name": "python3"
  },
  "language_info": {
   "codemirror_mode": {
    "name": "ipython",
    "version": 3
   },
   "file_extension": ".py",
   "mimetype": "text/x-python",
   "name": "python",
   "nbconvert_exporter": "python",
   "pygments_lexer": "ipython3",
   "version": "3.10.5"
  }
 },
 "nbformat": 4,
 "nbformat_minor": 4
}
