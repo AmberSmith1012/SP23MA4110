{
 "cells": [
  {
   "cell_type": "code",
   "execution_count": null,
   "metadata": {},
   "outputs": [],
   "source": [
    "from datascience import *\n",
    "%matplotlib inline\n",
    "import matplotlib.pyplot as plots\n",
    "plots.style.use('fivethirtyeight')\n",
    "import numpy as np"
   ]
  },
  {
   "cell_type": "markdown",
   "metadata": {},
   "source": [
    "## Lesson 23: Confidence Intervals ##"
   ]
  },
  {
   "cell_type": "markdown",
   "metadata": {},
   "source": [
    "### Percentiles"
   ]
  },
  {
   "cell_type": "code",
   "execution_count": null,
   "metadata": {},
   "outputs": [],
   "source": [
    "# We will compute the 55th percentile for the following array\n",
    "# Run this cell\n",
    "\n",
    "x = make_array(43, 20, 51, 7, 28, 34)\n",
    "x"
   ]
  },
  {
   "cell_type": "code",
   "execution_count": null,
   "metadata": {},
   "outputs": [],
   "source": [
    "# Step 1. Sort the data\n",
    "..."
   ]
  },
  {
   "cell_type": "code",
   "execution_count": null,
   "metadata": {},
   "outputs": [],
   "source": [
    "# Step 2. Determine where 55th percentile would be\n",
    "# Using one line of code. Hint: Look at the documentation\n",
    "... "
   ]
  },
  {
   "cell_type": "code",
   "execution_count": null,
   "metadata": {},
   "outputs": [],
   "source": [
    "# Manually compute the 55th percentile (which element to take)\n",
    "..."
   ]
  },
  {
   "cell_type": "markdown",
   "metadata": {},
   "source": [
    "### Sample Median"
   ]
  },
  {
   "cell_type": "code",
   "execution_count": null,
   "metadata": {},
   "outputs": [],
   "source": [
    "# Run this cell\n",
    "sf = Table.read_table('data/san_francisco_2015.csv')\n",
    "sf"
   ]
  },
  {
   "cell_type": "code",
   "execution_count": null,
   "metadata": {},
   "outputs": [],
   "source": [
    "# Using the `sf` table, determine who makes the most money\n",
    "..."
   ]
  },
  {
   "cell_type": "code",
   "execution_count": null,
   "metadata": {},
   "outputs": [],
   "source": [
    "# Using the `sf` table, determine who makes the least money\n",
    "..."
   ]
  },
  {
   "cell_type": "code",
   "execution_count": null,
   "metadata": {},
   "outputs": [],
   "source": [
    "# What's the median total compensation of the population?\n",
    "pop_median = ...\n",
    "pop_median"
   ]
  },
  {
   "cell_type": "code",
   "execution_count": null,
   "metadata": {},
   "outputs": [],
   "source": [
    "# Create a sample of sample size 500 from the population\n",
    "our_sample = ...\n",
    "our_sample.show(5)"
   ]
  },
  {
   "cell_type": "code",
   "execution_count": null,
   "metadata": {},
   "outputs": [],
   "source": [
    "# Determine the median total compensation of `our_sample`\n",
    "# using a built in function. Hint: use the documentation\n",
    "..."
   ]
  },
  {
   "cell_type": "code",
   "execution_count": null,
   "metadata": {},
   "outputs": [],
   "source": [
    "# Create a histogram showing the total compensation distribution\n",
    "# of the POPOULATION.  Use the given bins below\n",
    "\n",
    "sf_bins = np.arange(0, 700000, 25000)\n",
    "\n",
    "...\n",
    "\n",
    "plots.title('Population Distribution');"
   ]
  },
  {
   "cell_type": "code",
   "execution_count": null,
   "metadata": {},
   "outputs": [],
   "source": [
    "# Create a histogram showing the total compensation distribution\n",
    "# of `our_sample`.  Use `sf_bins`\n",
    "\n",
    "...\n",
    "plots.title('Sample Distribution');"
   ]
  },
  {
   "cell_type": "markdown",
   "metadata": {},
   "source": [
    "# Variability of the Estimate"
   ]
  },
  {
   "cell_type": "code",
   "execution_count": null,
   "metadata": {},
   "outputs": [],
   "source": [
    "# Create a function called `generate_sample_median`\n",
    "# that takes any sample size\n",
    "# and returns the median using percentile\n",
    "def ...(...):\n",
    "    ...\n",
    "    return ..."
   ]
  },
  {
   "cell_type": "code",
   "execution_count": null,
   "metadata": {},
   "outputs": [],
   "source": [
    "# Use the function `generate_sample_median` to find the median of a \n",
    "# sample of size of 300\n",
    "sample_median = ...\n",
    "sample_median"
   ]
  },
  {
   "cell_type": "code",
   "execution_count": null,
   "metadata": {},
   "outputs": [],
   "source": [
    "# Find the error between the sample median and the population median\n",
    "# Hint: Find the difference between the two\n",
    "error = ...\n",
    "error"
   ]
  },
  {
   "cell_type": "markdown",
   "metadata": {},
   "source": [
    "# Quantifying Uncertainty"
   ]
  },
  {
   "cell_type": "code",
   "execution_count": null,
   "metadata": {},
   "outputs": [],
   "source": [
    "# Simulate the sample median 1,000 by using the `generate_sample_median` \n",
    "# function \n",
    "\n",
    "# Create an assignment statement called `sample_medians` that\n",
    "# is an empty array\n",
    "# Create a for loop that runs up to 1,000 times\n",
    "# Within the for loop, there is an assignment statement called\n",
    "# `new_median` that is assigned the result of using the function \n",
    "# `generate_sample_median` that takes a sample size of 500\n",
    "# Append to the assignment statement `sample_medians` the results from \n",
    "# the assignment statement `new_median` and assign this to \n",
    "# `sample_medians` at the end of the for loop\n",
    "\n",
    "sample_medians = ...\n",
    "\n",
    "... :\n",
    "    new_median = ...\n",
    "    sample_medians = ..."
   ]
  },
  {
   "cell_type": "code",
   "execution_count": null,
   "metadata": {},
   "outputs": [],
   "source": [
    "# Run this cell\n",
    "# What do you notice?\n",
    "med_bins = np.arange(90000, 125001, 2500)\n",
    "Table().with_column('Sample Medians', sample_medians).hist(bins = med_bins)\n",
    "\n",
    "plots.scatter(pop_median, -0.000001, marker=\"^\", color=\"red\");"
   ]
  },
  {
   "cell_type": "code",
   "execution_count": null,
   "metadata": {},
   "outputs": [],
   "source": [
    "# Run this cell\n",
    "# What do you notice?\n",
    "err_bins = np.arange(-15000, 12501, 2500)\n",
    "Table().with_column('Errors', sample_medians - pop_median).hist(bins = err_bins)\n",
    "\n",
    "plots.scatter(0, -0.000001, marker=\"^\", color=\"red\");"
   ]
  },
  {
   "cell_type": "markdown",
   "metadata": {},
   "source": [
    "# Bootstrap"
   ]
  },
  {
   "cell_type": "code",
   "execution_count": null,
   "metadata": {},
   "outputs": [],
   "source": [
    "# Assign to `boot_sample` the result of taking a sample\n",
    "# WITH replacement from `our_sample`, indicating no sample size\n",
    "# Then, run this cell\n",
    "\n",
    "boot_sample = ...\n",
    "boot_sample.hist('Total Compensation', bins=sf_bins)\n",
    "plots.title('Bootstrap sample');\n",
    "\n",
    "print(\"Population Median =       \", pop_median)\n",
    "print(\"Our Sample Median =       \", sample_median)\n",
    "print(\"Bootstrap Sample Median = \", \n",
    "      percentile(50,boot_sample.column('Total Compensation')))"
   ]
  },
  {
   "cell_type": "code",
   "execution_count": null,
   "metadata": {},
   "outputs": [],
   "source": [
    "# Create a function called `one_bootstrap_median` that does not indicate \n",
    "# the input (ie. use () )\n",
    "# Assign to `single_sample` take a sample of `our_sample`, again\n",
    "# without indicating a sample size (ie. use () )\n",
    "# Return the median total compensation of `single_sample` by using the \n",
    "# built in function percentile\n",
    "\n",
    "... :\n",
    "    single_sample = ...\n",
    "    return ... "
   ]
  },
  {
   "cell_type": "code",
   "execution_count": null,
   "metadata": {},
   "outputs": [],
   "source": [
    "#simulate 1000 samples\n",
    "\n",
    "# Create an assignment statement called `bootstrap_medians` that\n",
    "# is an empty array\n",
    "# Create a for loop that runs up to 1,000 times\n",
    "# Within the for loop, there is an assignment statement called\n",
    "# `new_median` that is assigned the result of using the function \n",
    "# `one_bootstrap_median` that takes nothing (ie. use () ) \n",
    "# Append to the assignment statement `bootstrap_medians` the results from \n",
    "# the assignment statement `new_median` and assign this to \n",
    "# `bootstrap_medians` at the end of the for loop\n",
    "\n",
    "bootstrap_medians = ...\n",
    "...:\n",
    "    new_median = ...\n",
    "    bootstrap_medians = ..."
   ]
  },
  {
   "cell_type": "code",
   "execution_count": null,
   "metadata": {},
   "outputs": [],
   "source": [
    "# Run this cell\n",
    "Table().with_column('Bootstrap Medians', bootstrap_medians).hist('Bootstrap Medians', bins=med_bins)\n",
    "\n",
    "plots.scatter(pop_median, -0.000001, marker=\"^\", color=\"red\");\n",
    "plots.scatter(sample_median, -0.000001, marker=\"^\", color=\"blue\");"
   ]
  },
  {
   "cell_type": "markdown",
   "metadata": {},
   "source": [
    "## Confidence Intervals"
   ]
  },
  {
   "cell_type": "code",
   "execution_count": null,
   "metadata": {},
   "outputs": [],
   "source": [
    "# Make an interval based on the middle 95% of bootstrap samples\n",
    "# (`bootstrap_medians`) using the built in function `percentile` \n",
    "\n",
    "left = ...\n",
    "right = ...\n",
    "\n",
    "Table().with_column(\n",
    "    'Bootstrap Medians', bootstrap_medians\n",
    ").hist('Bootstrap Medians', bins=med_bins)\n",
    "\n",
    "plots.plot([left, right], [0,0], color=\"gold\",lw=3, zorder=1);\n",
    "plots.scatter(pop_median, -0.000001, marker=\"^\", color=\"red\", zorder=2);\n",
    "plots.scatter(sample_median, -0.000001, marker=\"^\", color=\"blue\", zorder=2);\n",
    "\n",
    "print(\"95% Confidence Interval:\",\"[\",left,\",\",right,\"]\")"
   ]
  }
 ],
 "metadata": {
  "anaconda-cloud": {},
  "kernelspec": {
   "display_name": "Python 3 (ipykernel)",
   "language": "python",
   "name": "python3"
  },
  "language_info": {
   "codemirror_mode": {
    "name": "ipython",
    "version": 3
   },
   "file_extension": ".py",
   "mimetype": "text/x-python",
   "name": "python",
   "nbconvert_exporter": "python",
   "pygments_lexer": "ipython3",
   "version": "3.10.5"
  }
 },
 "nbformat": 4,
 "nbformat_minor": 4
}
