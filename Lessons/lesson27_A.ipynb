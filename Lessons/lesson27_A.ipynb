{
 "cells": [
  {
   "cell_type": "code",
   "execution_count": null,
   "metadata": {
    "id": "Z9Yyb7vEQAPL"
   },
   "outputs": [],
   "source": [
    "import matplotlib\n",
    "from datascience import *\n",
    "%matplotlib inline\n",
    "import matplotlib.pyplot as plots\n",
    "import numpy as np\n",
    "plots.style.use('fivethirtyeight')"
   ]
  },
  {
   "cell_type": "markdown",
   "metadata": {
    "id": "QJGRXHuWQAPe"
   },
   "source": [
    "## Loading in the Data and Functions"
   ]
  },
  {
   "cell_type": "code",
   "execution_count": null,
   "metadata": {
    "id": "2aLVG45mQAPf"
   },
   "outputs": [],
   "source": [
    "# Run this cell\n",
    "united = Table.read_table('data/united.csv')\n",
    "united_bins = np.arange(-20, 300, 10)\n",
    "united.show(5)"
   ]
  },
  {
   "cell_type": "code",
   "execution_count": null,
   "metadata": {},
   "outputs": [],
   "source": [
    "# Find the average of the delay times\n",
    "\n",
    "..."
   ]
  },
  {
   "cell_type": "code",
   "execution_count": null,
   "metadata": {
    "id": "p1pd2bpWQAPo"
   },
   "outputs": [],
   "source": [
    "# Create a function called `one_sample_mean` that will take a sample of any size \n",
    "# from the population of flight data and return the mean of the delay times of the sample\n",
    "\n",
    "def ... :\n",
    "    \"\"\" Takes a sample from the population of flights and computes its mean\"\"\"\n",
    "    sampled_flights = ...\n",
    "    return ..."
   ]
  },
  {
   "cell_type": "code",
   "execution_count": null,
   "metadata": {
    "id": "VLAn8sjHQAPs"
   },
   "outputs": [],
   "source": [
    "# Create a function called `ten_thousand_sample_means` \n",
    "# that will take a sample size of any size, run 10000 times\n",
    "# and append the results of using the function `one_sample_means`\n",
    "# on an assignments statement called `means`, that is initially an empty array\n",
    "# The function will return `means`\n",
    "\n",
    "\n",
    "def ... :\n",
    "    \n",
    "    means = ... \n",
    "    \n",
    "    for ... :\n",
    "        ...\n",
    "    return ..."
   ]
  },
  {
   "cell_type": "markdown",
   "metadata": {
    "id": "JZL4Jw_OQAP7"
   },
   "source": [
    "## Distribution of the Sample Average"
   ]
  },
  {
   "cell_type": "code",
   "execution_count": null,
   "metadata": {
    "id": "ImB9Ijv8QAQC"
   },
   "outputs": [],
   "source": [
    "# How many possible sample means are there?\n",
    "# Since the \"population\" is 13825 and the sample size is 400, this is creates \n",
    "# a permutation where order matters, and different orders give a different outcome\n",
    "# Therefore, the following is the number of possible sample means\n",
    "\n",
    "13825 ** 400"
   ]
  },
  {
   "cell_type": "code",
   "execution_count": null,
   "metadata": {},
   "outputs": [],
   "source": [
    "# Create a histogram of delays\n",
    "\n",
    "..."
   ]
  },
  {
   "cell_type": "code",
   "execution_count": null,
   "metadata": {
    "id": "4LXdMd9FQAP8"
   },
   "outputs": [],
   "source": [
    "# Create a new table, called `means_tbl`, that has columns (the column titles) for sample sizes of\n",
    "# 100, 256, 400, 625, 900, and whose output is the result of using the function\n",
    "# `ten_thousand_sample_means` with the respective sample sizes\n",
    "\n",
    "means_tbl = ...\n",
    "means_tbl"
   ]
  },
  {
   "cell_type": "code",
   "execution_count": null,
   "metadata": {
    "id": "2tR9UdO4QAP-"
   },
   "outputs": [],
   "source": [
    "# Create a histogram for `means_tbl` using the provided bins\n",
    "\n",
    "mt_bins = np.arange(5, 35, .5)\n",
    "\n",
    "...\n",
    "plots.title('Distribution of Sample Average');"
   ]
  },
  {
   "cell_type": "markdown",
   "metadata": {},
   "source": [
    "## Variability of the Sample Average"
   ]
  },
  {
   "cell_type": "code",
   "execution_count": null,
   "metadata": {
    "id": "iwqJDMe5QAQF"
   },
   "outputs": [],
   "source": [
    "# Determine the mean for the delay times.  Assign this value to `delay_means`\n",
    "\n",
    "...\n",
    "delay_means\n"
   ]
  },
  {
   "cell_type": "code",
   "execution_count": null,
   "metadata": {},
   "outputs": [],
   "source": [
    "# Determine the standard deviation for the delay times.  Assign this value to `delay_sd`\n",
    "\n",
    "...\n",
    "delay_sd"
   ]
  },
  {
   "cell_type": "code",
   "execution_count": null,
   "metadata": {
    "id": "6EacWz2uQAQI"
   },
   "outputs": [],
   "source": [
    "# Here, we will create a function that will \n",
    "# display the population mean, population standard deviation,\n",
    "# sample size, average of sample means, standard deviation of sample means\n",
    "# and the ratio of the population standard deviation to the standard deviation \n",
    "# of the sample means for samples of size 100, 256, 400, 625, and 900\n",
    "\n",
    "# Run this cell\n",
    "\n",
    "\"\"\"Empirical distribution of random sample means\"\"\"\n",
    "\n",
    "def summarize_sample_means():\n",
    "        \n",
    "    print(\"Population mean:\", ...)\n",
    "    print(\"Population SD:\", ...)\n",
    "    \n",
    "    for i in np.arange(len(means_tbl)):\n",
    "        print('')\n",
    "        print(\"Sample size: \", means_tbl.labels[i])\n",
    "        print(\"Average of sample means: \", np.mean(means_tbl.column(i)))\n",
    "        print(\"SD of sample means:\", np.std(means_tbl.column(i)))\n",
    "        print(\"Ratio of Pop SD to SD of sample means\", delay_sd / np.std(means_tbl.column(i)))"
   ]
  },
  {
   "cell_type": "code",
   "execution_count": null,
   "metadata": {},
   "outputs": [],
   "source": [
    "# Run this cell\n",
    "\n",
    "summarize_sample_means()"
   ]
  }
 ],
 "metadata": {
  "anaconda-cloud": {},
  "colab": {
   "name": "lec27.ipynb",
   "provenance": []
  },
  "kernelspec": {
   "display_name": "Python 3 (ipykernel)",
   "language": "python",
   "name": "python3"
  },
  "language_info": {
   "codemirror_mode": {
    "name": "ipython",
    "version": 3
   },
   "file_extension": ".py",
   "mimetype": "text/x-python",
   "name": "python",
   "nbconvert_exporter": "python",
   "pygments_lexer": "ipython3",
   "version": "3.10.5"
  }
 },
 "nbformat": 4,
 "nbformat_minor": 4
}
