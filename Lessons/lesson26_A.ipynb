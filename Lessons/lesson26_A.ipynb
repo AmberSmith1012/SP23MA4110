{
 "cells": [
  {
   "cell_type": "code",
   "execution_count": null,
   "metadata": {
    "id": "YiQlqVHwP8Ud"
   },
   "outputs": [],
   "source": [
    "import matplotlib\n",
    "from datascience import *\n",
    "%matplotlib inline\n",
    "import matplotlib.pyplot as plots\n",
    "import numpy as np\n",
    "plots.style.use('fivethirtyeight')"
   ]
  },
  {
   "cell_type": "markdown",
   "metadata": {},
   "source": [
    "# Normal Distributions"
   ]
  },
  {
   "cell_type": "markdown",
   "metadata": {
    "id": "8dEICq7IP8Vo"
   },
   "source": [
    "## Standard Units ##"
   ]
  },
  {
   "cell_type": "code",
   "execution_count": null,
   "metadata": {},
   "outputs": [],
   "source": [
    "# Read in births data set\n",
    "births = Table.read_table('data/baby.csv')\n",
    "births.show(3)"
   ]
  },
  {
   "cell_type": "code",
   "execution_count": null,
   "metadata": {},
   "outputs": [],
   "source": [
    "# Create a function called `standard_units` that returns a given array (say, `x`) to standard units\n",
    "# Hint: Recall standard units are the difference between the given values and the \n",
    "# average of the data set, divided by the standard deviation of the data set \n",
    "\n",
    "def ... :\n",
    "    \"\"\"Convert array x to standard units.\"\"\"\n",
    "    return ..."
   ]
  },
  {
   "cell_type": "code",
   "execution_count": null,
   "metadata": {},
   "outputs": [],
   "source": [
    "# Create an array, called `ages`, that holds the maternal ages from the table `births`\n",
    "\n",
    "ages = ...\n",
    "ages"
   ]
  },
  {
   "cell_type": "code",
   "execution_count": null,
   "metadata": {},
   "outputs": [],
   "source": [
    "# Convert the maternal ages to standard units using the function created above\n",
    "\n",
    "ages_standard_units = ...\n",
    "ages_standard_units"
   ]
  },
  {
   "cell_type": "code",
   "execution_count": null,
   "metadata": {},
   "outputs": [],
   "source": [
    "# Verify that the mean is 0 for `ages_standard_units`\n",
    "\n",
    "..."
   ]
  },
  {
   "cell_type": "code",
   "execution_count": null,
   "metadata": {},
   "outputs": [],
   "source": [
    "# Verify that the standard deviation is 1 for `ages_standard_units`\n",
    "\n",
    "..."
   ]
  },
  {
   "cell_type": "code",
   "execution_count": null,
   "metadata": {},
   "outputs": [],
   "source": [
    "# Create a table, called `both`, that displays the original data\n",
    "# as well as the data transformed to standard units\n",
    "\n",
    "both = ...\n",
    "both"
   ]
  },
  {
   "cell_type": "code",
   "execution_count": null,
   "metadata": {},
   "outputs": [],
   "source": [
    "# Display the average in the original units\n",
    "\n",
    "... "
   ]
  },
  {
   "cell_type": "code",
   "execution_count": null,
   "metadata": {},
   "outputs": [],
   "source": [
    "# Display the  standard deviation in the original units\n",
    "\n",
    "... "
   ]
  },
  {
   "cell_type": "code",
   "execution_count": null,
   "metadata": {},
   "outputs": [],
   "source": [
    "# Create a histogram of the age in years from the table `both`\n",
    "# This will be your data in the original units\n",
    "# Use the bins provided below\n",
    "\n",
    "both_original_bins = np.arange(15, 46, 2) \n",
    "..."
   ]
  },
  {
   "cell_type": "code",
   "execution_count": null,
   "metadata": {
    "id": "Kaza_BQeP8V2"
   },
   "outputs": [],
   "source": [
    "# Create a histogram of the age in years from the table `both`\n",
    "# This will be your data in STANDARD UNITS\n",
    "# Use the bins provided below\n",
    "\n",
    "# Confirm distributions are the same shape \n",
    "\n",
    "both_standard_bins = np.arange(-2.2, 3.4, 0.35)\n",
    "\n",
    "...\n",
    "plots.xlim(-2, 3.1);"
   ]
  },
  {
   "cell_type": "markdown",
   "metadata": {
    "id": "GQ6OFjVSP8V3"
   },
   "source": [
    "## The SD and Bell Shaped Curves"
   ]
  },
  {
   "cell_type": "code",
   "execution_count": null,
   "metadata": {
    "id": "uIawF7MUP8V4"
   },
   "outputs": [],
   "source": [
    "# Run this cell\n",
    "births.hist('Maternal Height', bins = np.arange(56.5, 72.6, 1))"
   ]
  },
  {
   "cell_type": "code",
   "execution_count": null,
   "metadata": {
    "id": "XyVEZyzzP8V6"
   },
   "outputs": [],
   "source": [
    "# Compute the mean of the maternal heights\n",
    "\n",
    "... "
   ]
  },
  {
   "cell_type": "code",
   "execution_count": null,
   "metadata": {
    "id": "XyVEZyzzP8V6"
   },
   "outputs": [],
   "source": [
    "# Compute the standard deviation of the maternal heights\n",
    "\n",
    "... "
   ]
  },
  {
   "cell_type": "code",
   "execution_count": null,
   "metadata": {
    "id": "qmlEV3rHP8V9"
   },
   "outputs": [],
   "source": [
    "# Estimate the inflection points for the maternal heights\n",
    "\n",
    "... "
   ]
  },
  {
   "cell_type": "markdown",
   "metadata": {
    "id": "QJGRXHuWQAPe"
   },
   "source": [
    "## Central Limit Theorem ##"
   ]
  },
  {
   "cell_type": "code",
   "execution_count": null,
   "metadata": {
    "id": "2aLVG45mQAPf"
   },
   "outputs": [],
   "source": [
    "# Read in the United data\n",
    "# Run this cell \n",
    "united = Table.read_table('data/united.csv')\n",
    "united_bins = np.arange(-20, 300, 10)\n",
    "united"
   ]
  },
  {
   "cell_type": "code",
   "execution_count": null,
   "metadata": {
    "id": "S74hP5BVQAPh"
   },
   "outputs": [],
   "source": [
    "# Create a histogram of the Delay column using the bins from above\n",
    "\n",
    "... "
   ]
  },
  {
   "cell_type": "code",
   "execution_count": null,
   "metadata": {
    "id": "xBZvFxp6QAPj"
   },
   "outputs": [],
   "source": [
    "# Determine the mean of the Delay column\n",
    "\n",
    "... "
   ]
  },
  {
   "cell_type": "code",
   "execution_count": null,
   "metadata": {
    "id": "xBZvFxp6QAPj"
   },
   "outputs": [],
   "source": [
    "# Determine the sd of the Delay column\n",
    "\n",
    "... "
   ]
  },
  {
   "cell_type": "code",
   "execution_count": null,
   "metadata": {
    "id": "p1pd2bpWQAPo"
   },
   "outputs": [],
   "source": [
    "# Create a function called `one_sample_mean` that will take a sample of any size \n",
    "# from the population of flight data and return the mean of the delay times of the sample\n",
    "\n",
    "def ... :\n",
    "    \"\"\" Takes a sample from the population of flights and computes its mean\"\"\"\n",
    "    sampled_flights = ...\n",
    "    return ..."
   ]
  },
  {
   "cell_type": "code",
   "execution_count": null,
   "metadata": {
    "id": "uwsNx5OQQAPq"
   },
   "outputs": [],
   "source": [
    "# Use the function above to find the mean of a sample of size 100\n",
    "\n",
    "... "
   ]
  },
  {
   "cell_type": "code",
   "execution_count": null,
   "metadata": {
    "id": "VLAn8sjHQAPs"
   },
   "outputs": [],
   "source": [
    "# Create a function called `ten_thousand_sample_means` \n",
    "# that will take a sample size of any size, run 10000 times\n",
    "# and append the results of using the function `one_sample_means`\n",
    "# on an assignments statement called `means`, that is initially an empty array\n",
    "# The function will return `means`\n",
    "\n",
    "\n",
    "def ... :\n",
    "    \n",
    "    means = ... \n",
    "    \n",
    "    for ... :\n",
    "        ...\n",
    "    return ..."
   ]
  },
  {
   "cell_type": "code",
   "execution_count": null,
   "metadata": {
    "id": "yiK0FirUQAPu"
   },
   "outputs": [],
   "source": [
    "# Create an array called `sample_means_100` that will use the function\n",
    "# `ten_thousand_sample_means` on a sample size of 100 \n",
    "\n",
    "sample_means_100 = ...\n",
    "sample_means_100"
   ]
  },
  {
   "cell_type": "code",
   "execution_count": null,
   "metadata": {
    "id": "fp6_gEA1QAPz"
   },
   "outputs": [],
   "source": [
    "# Verify there are 10000 sample means\n",
    "\n",
    "..."
   ]
  },
  {
   "cell_type": "code",
   "execution_count": null,
   "metadata": {
    "id": "0o0HrtV7QAP1"
   },
   "outputs": [],
   "source": [
    "# Run this cell to see the histogram of the 10,000 samples of flight delays\n",
    "\n",
    "Table().with_column('Mean of 100 flight delays', sample_means_100).hist(bins=20)\n",
    "print('Population Average:', delay_mean)"
   ]
  },
  {
   "cell_type": "code",
   "execution_count": null,
   "metadata": {
    "id": "mmFYXcDxQAP3"
   },
   "outputs": [],
   "source": [
    "# How does increasing the sample size to 400 impact the distribution?\n",
    "# Run this cell\n",
    "\n",
    "sample_means_400 = ten_thousand_sample_means(400)\n",
    "Table().with_column('Mean of 400 flight delays', sample_means_400).hist(bins=20)\n",
    "print('Population Average:', delay_mean)"
   ]
  },
  {
   "cell_type": "code",
   "execution_count": null,
   "metadata": {
    "id": "W2OENcoMQAP5"
   },
   "outputs": [],
   "source": [
    "# How does increasing the sample size to 900 impact the distribution?\n",
    "# Run this cell\n",
    "\n",
    "sample_means_900 = ten_thousand_sample_means(900)\n",
    "Table().with_column('Mean of 900 flight delays', sample_means_900).hist(bins=20)\n",
    "print('Population Average:', delay_mean)"
   ]
  },
  {
   "cell_type": "code",
   "execution_count": null,
   "metadata": {},
   "outputs": [],
   "source": [
    "# Run this cell\n",
    "\n",
    "Table().with_columns('100', sample_means_100, '400',sample_means_400, '900', sample_means_900).hist(bins=40)"
   ]
  }
 ],
 "metadata": {
  "anaconda-cloud": {},
  "colab": {
   "name": "lec26.ipynb",
   "provenance": []
  },
  "kernelspec": {
   "display_name": "Python 3 (ipykernel)",
   "language": "python",
   "name": "python3"
  },
  "language_info": {
   "codemirror_mode": {
    "name": "ipython",
    "version": 3
   },
   "file_extension": ".py",
   "mimetype": "text/x-python",
   "name": "python",
   "nbconvert_exporter": "python",
   "pygments_lexer": "ipython3",
   "version": "3.10.5"
  }
 },
 "nbformat": 4,
 "nbformat_minor": 4
}
