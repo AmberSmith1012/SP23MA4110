{
 "cells": [
  {
   "cell_type": "code",
   "execution_count": null,
   "metadata": {},
   "outputs": [],
   "source": [
    "from datascience import *\n",
    "import numpy as np\n",
    "\n",
    "%matplotlib inline\n",
    "import matplotlib.pyplot as plots\n",
    "plots.style.use('fivethirtyeight')"
   ]
  },
  {
   "cell_type": "markdown",
   "metadata": {},
   "source": [
    "# Lesson 11: Pivots and Joins #"
   ]
  },
  {
   "cell_type": "markdown",
   "metadata": {},
   "source": [
    "## Cross-classification: grouping by two columns"
   ]
  },
  {
   "cell_type": "code",
   "execution_count": null,
   "metadata": {},
   "outputs": [],
   "source": [
    "# Run this cell\n",
    "sky = Table.read_table('data/skyscrapers_v2.csv')"
   ]
  },
  {
   "cell_type": "code",
   "execution_count": null,
   "metadata": {},
   "outputs": [],
   "source": [
    "# Add a column named `age` to the table `sky` \n",
    "# The values under the column `age` should be the current age of each of the skyscrappers\n",
    "# Drop the column `completed`\n",
    "\n",
    "sky = ... \n",
    "sky.show(3)"
   ]
  },
  {
   "cell_type": "code",
   "execution_count": null,
   "metadata": {},
   "outputs": [],
   "source": [
    "# Group the table sky by `material` and then by `city`\n",
    "# Show the first 20 rows\n",
    "..."
   ]
  },
  {
   "cell_type": "code",
   "execution_count": null,
   "metadata": {},
   "outputs": [],
   "source": [
    "# Determine how many skyscrapers are made of a particular material\n",
    "# in each city \n",
    "..."
   ]
  },
  {
   "cell_type": "code",
   "execution_count": null,
   "metadata": {},
   "outputs": [],
   "source": [
    "# Run this cell\n",
    "# What do you notice?\n",
    "sky.pivot('material','city', values='height', collect=np.average).show()"
   ]
  },
  {
   "cell_type": "code",
   "execution_count": null,
   "metadata": {},
   "outputs": [],
   "source": [
    "# Run this cell\n",
    "# What do you notice?\n",
    "sky_p = sky.pivot('material', 'city', values='height', collect=max)\n",
    "sky_p.show()"
   ]
  },
  {
   "cell_type": "code",
   "execution_count": null,
   "metadata": {},
   "outputs": [],
   "source": [
    "# Add a column to sky_p called `difference`\n",
    "# The values in `difference` should be the difference between the height \n",
    "# of the steel skyscrapers and the concrete skyscrapers (A positive value)\n",
    "sky_p = ...\n",
    "\n",
    "sky_p"
   ]
  },
  {
   "cell_type": "code",
   "execution_count": null,
   "metadata": {},
   "outputs": [],
   "source": [
    "# Sort sky_p by `difference` with the highest difference at the top\n",
    "..."
   ]
  },
  {
   "cell_type": "markdown",
   "metadata": {},
   "source": [
    "## Joins ##"
   ]
  },
  {
   "cell_type": "code",
   "execution_count": null,
   "metadata": {},
   "outputs": [],
   "source": [
    "# Briefly discuss what this cell is doing\n",
    "# Run this cell\n",
    "drinks = Table().with_columns('Drinks', make_array(), 'Cafe', make_array(), 'Price', make_array())\n",
    "drinks = drinks.with_rows([\n",
    "    ['Chai Tea', 'Joe van Gogh', 4],\n",
    "    ['Espresso', 'Monuts',  2],\n",
    "    ['Latte',    'Monuts',  3],\n",
    "    ['Espresso', \"Cloche\",   2]\n",
    "])\n",
    "drinks"
   ]
  },
  {
   "cell_type": "code",
   "execution_count": null,
   "metadata": {},
   "outputs": [],
   "source": [
    "# Create a new table with the columns Coupon and Location\n",
    "# Coupon should have the values 10, 20, and 5\n",
    "# Location should have the values Joe van Gogh, Monuts, and \n",
    "# Joe van Gogh\n",
    "# yes, Joe van Gogh is there twice\n",
    "# Assign this new table to `discounts`\n",
    "# Display `discounts`\n",
    "discounts = ...\n",
    "discounts"
   ]
  },
  {
   "cell_type": "code",
   "execution_count": null,
   "metadata": {},
   "outputs": [],
   "source": [
    "# Match the rows in the table `drinks` using the values in the column\n",
    "# `Cafe`, to the rows in the table `discounts` to the values in the\n",
    "# column `Location`.  HINT: use .join\n",
    "combined = ... \n",
    "combined"
   ]
  },
  {
   "cell_type": "code",
   "execution_count": null,
   "metadata": {},
   "outputs": [],
   "source": [
    "# Briefly discuss what this cell is doing\n",
    "# Run this cell\n",
    "discounted_frac = 1 - combined.column('Coupon') / 100\n",
    "\n",
    "combined.with_column(\n",
    "    'Discounted Price', \n",
    "    combined.column('Price') * discounted_frac\n",
    ")"
   ]
  }
 ],
 "metadata": {
  "kernelspec": {
   "display_name": "Python 3 (ipykernel)",
   "language": "python",
   "name": "python3"
  },
  "language_info": {
   "codemirror_mode": {
    "name": "ipython",
    "version": 3
   },
   "file_extension": ".py",
   "mimetype": "text/x-python",
   "name": "python",
   "nbconvert_exporter": "python",
   "pygments_lexer": "ipython3",
   "version": "3.10.5"
  }
 },
 "nbformat": 4,
 "nbformat_minor": 4
}
